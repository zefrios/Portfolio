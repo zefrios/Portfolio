{
 "cells": [
  {
   "cell_type": "markdown",
   "metadata": {},
   "source": [
    "# Assignment \\#9 the Sentiment140 dataset\n",
    "\n",
    "The sentiment140 dataset contains 1,600,000 tweets extracted using the twitter api from April to June 2009. The tweets have been annotated (0 = negative, 4 = positive) and they can be used to detect sentiment.\n",
    "\n",
    "Source: kaggle.com"
   ]
  },
  {
   "cell_type": "markdown",
   "metadata": {},
   "source": [
    "As the file is quite large (230MB), we use a subset of this dataset, where we selected only tweets containing the strings (not only isolated words) `\"good\"` or `\"bad\"`. The subset for this assignment contains 103,259 tweets:\n",
    "\n",
    "- date: datetime of the tweet in the format: year-month-day hours:minutes:seconds\n",
    "- score: polarity of the tweet: 0=negative and 4=positive\n",
    "- user: user who produced the tweet\n",
    "- text: text of the tweet"
   ]
  },
  {
   "cell_type": "markdown",
   "metadata": {},
   "source": [
    "**Caution**: Questions asking to return a floating point number (ratio, mean, percentage) should round it to 1 decimal place:\n",
    "- Such questions are marked with `(°)`\n",
    "- For instance, if the variable `result` is a floating point number, e.g. `3.14159265359`\n",
    "- The functions should return `round(result, 1)` instead of `result`, e.g. `3.1`\n",
    "- Sommetimes, rounding a floating point number to 1 decimal place leads to a strange number such as `3.100000001`. This is a common outcome with floating point numbers representation and will not affect the grade.\n",
    "- Percentages should be returned as floating point numbers (not with the % mark)."
   ]
  },
  {
   "cell_type": "markdown",
   "metadata": {},
   "source": [
    "#### Questions\n",
    "\n",
    "**A. In this part, we explore the time series aspect of the dataset**\n",
    "\n",
    "1) Pick up the first datetime of the dataset and produce a string in the exact format `day/month/year`, example `\"25/12/2020\"`, using the `strftime()` method.\n",
    "\n",
    "2) Pick up the last datetime of the dataset and produce a string in the exact format `month day, year`, example `\"Dec 25, 2020\"`, using the `strftime()` method.\n",
    "\n",
    "3) How many days with at least one tweet do we have?\n",
    "\n",
    "4) What is the maximum number of tweets in a day?\n",
    "\n",
    "5) What is the minimum number of tweets in a day with at least one tweet?\n",
    "\n",
    "6) What is the average number of tweets in a day with at least one tweet (°)?\n",
    "\n",
    "7) If we consider only the hours of the day (0 to 23) where the tweets have been produced, at what hour do we have the minimum number of tweets?\n",
    "\n",
    "8) If we consider only the hours of the day (0 to 23) where the tweets have been produced, at what hour do we have the maximum number of tweets?\n",
    "\n",
    "9) Who is the most active user in the dataset?\n",
    "\n",
    "10) What is the average number of tweets in a day produced by the most active user (°)?\n",
    "\n",
    "\n",
    "(°) Result of functions should be rounded to 1 decimal place."
   ]
  },
  {
   "cell_type": "markdown",
   "metadata": {},
   "source": [
    "**B. In this part, we explore the textual aspect of the dataset**\n",
    "\n",
    "11) What is the mean score of all tweets (°)?\n",
    "\n",
    "12) What is the mean score of tweets containing the string `\"good\"` (°)?\n",
    "\n",
    "13) What is the mean score of tweets containing the string `\"bad\"` (°)?\n",
    "\n",
    "14) What is the mean score of tweets issued by the most active user found in question 9 (°)?\n",
    "\n",
    "15) Which text is the most frequent one in all tweets?\n",
    "\n",
    "16) How many different users issued the most frequent tweet?\n",
    "\n",
    "17) What is the mean score of all tweets issued by those users (°)?\n",
    "\n",
    "18) In tweets, users are quoted with a string starting with an `@` and then containing possibly uppercase and lowercase letters, digits and underscore `_`. Which user is the most quoted one (the result should be a string starting with an `@`)?\n",
    "\n",
    "19) How many different users issued at least a tweet quoting the most quoted user?\n",
    "\n",
    "20) What is the mean score of tweets quoting the most quoted user (°)?\n",
    "\n",
    "(°) Result of functions should be rounded to 1 decimal place."
   ]
  },
  {
   "cell_type": "markdown",
   "metadata": {},
   "source": [
    "**Important import**\n",
    "\n",
    "The cell below imports only the `pandas` module.\n",
    "\n",
    "To achieve this assignment, you will need to import other modules. In order to avoid runtime errors when grading please import below the supplementary modules that you need.\n",
    "\n",
    "Do not import the `locale` module. All written ouputs are supposed to be in English."
   ]
  },
  {
   "cell_type": "code",
   "execution_count": 1,
   "metadata": {},
   "outputs": [],
   "source": [
    "# import\n",
    "import pandas as pd\n",
    "import datetime\n",
    "import re\n",
    "from collections import Counter\n",
    "# Import here the supplementary modules that you need\n",
    "# import"
   ]
  },
  {
   "cell_type": "code",
   "execution_count": 2,
   "metadata": {},
   "outputs": [
    {
     "data": {
      "text/html": [
       "<div>\n",
       "<style scoped>\n",
       "    .dataframe tbody tr th:only-of-type {\n",
       "        vertical-align: middle;\n",
       "    }\n",
       "\n",
       "    .dataframe tbody tr th {\n",
       "        vertical-align: top;\n",
       "    }\n",
       "\n",
       "    .dataframe thead th {\n",
       "        text-align: right;\n",
       "    }\n",
       "</style>\n",
       "<table border=\"1\" class=\"dataframe\">\n",
       "  <thead>\n",
       "    <tr style=\"text-align: right;\">\n",
       "      <th></th>\n",
       "      <th>date</th>\n",
       "      <th>score</th>\n",
       "      <th>user</th>\n",
       "      <th>text</th>\n",
       "    </tr>\n",
       "  </thead>\n",
       "  <tbody>\n",
       "    <tr>\n",
       "      <th>0</th>\n",
       "      <td>2009-04-06 22:21:27</td>\n",
       "      <td>0</td>\n",
       "      <td>crosland_12</td>\n",
       "      <td>@cocomix04 ill tell ya the story later  not a ...</td>\n",
       "    </tr>\n",
       "    <tr>\n",
       "      <th>1</th>\n",
       "      <td>2009-04-06 22:23:09</td>\n",
       "      <td>0</td>\n",
       "      <td>ericg622</td>\n",
       "      <td>I had such a nice day. Too bad the rain comes ...</td>\n",
       "    </tr>\n",
       "    <tr>\n",
       "      <th>2</th>\n",
       "      <td>2009-04-06 22:23:15</td>\n",
       "      <td>0</td>\n",
       "      <td>adri_mane</td>\n",
       "      <td>@Starrbby too bad I won't be around I lost my ...</td>\n",
       "    </tr>\n",
       "    <tr>\n",
       "      <th>3</th>\n",
       "      <td>2009-04-06 22:26:29</td>\n",
       "      <td>0</td>\n",
       "      <td>timdonnelly</td>\n",
       "      <td>hey, I actually won one of my bracket pools! T...</td>\n",
       "    </tr>\n",
       "    <tr>\n",
       "      <th>4</th>\n",
       "      <td>2009-04-06 22:26:33</td>\n",
       "      <td>0</td>\n",
       "      <td>willy_chaz</td>\n",
       "      <td>A bad nite for the favorite teams: Astros and ...</td>\n",
       "    </tr>\n",
       "  </tbody>\n",
       "</table>\n",
       "</div>"
      ],
      "text/plain": [
       "                 date  score         user  \\\n",
       "0 2009-04-06 22:21:27      0  crosland_12   \n",
       "1 2009-04-06 22:23:09      0     ericg622   \n",
       "2 2009-04-06 22:23:15      0    adri_mane   \n",
       "3 2009-04-06 22:26:29      0  timdonnelly   \n",
       "4 2009-04-06 22:26:33      0   willy_chaz   \n",
       "\n",
       "                                                text  \n",
       "0  @cocomix04 ill tell ya the story later  not a ...  \n",
       "1  I had such a nice day. Too bad the rain comes ...  \n",
       "2  @Starrbby too bad I won't be around I lost my ...  \n",
       "3  hey, I actually won one of my bracket pools! T...  \n",
       "4  A bad nite for the favorite teams: Astros and ...  "
      ]
     },
     "execution_count": 2,
     "metadata": {},
     "output_type": "execute_result"
    }
   ],
   "source": [
    "# loading the data\n",
    "# the dates are parsed!\n",
    "df = pd.read_csv('sample1600000.csv', parse_dates=['date'])\n",
    "df.head()"
   ]
  },
  {
   "cell_type": "code",
   "execution_count": 3,
   "metadata": {},
   "outputs": [],
   "source": [
    "# Pick up the first datetime of the dataset and produce a string in the exact format \"25/12/2019\"\n",
    "def exercise_01():\n",
    "    string = df['date']\n",
    "    result = string[0].strftime(\"%d/%m/%Y\")\n",
    "    return result"
   ]
  },
  {
   "cell_type": "code",
   "execution_count": 4,
   "metadata": {},
   "outputs": [
    {
     "data": {
      "text/plain": [
       "'06/04/2009'"
      ]
     },
     "execution_count": 4,
     "metadata": {},
     "output_type": "execute_result"
    }
   ],
   "source": [
    "# run and check\n",
    "exercise_01()"
   ]
  },
  {
   "cell_type": "code",
   "execution_count": 5,
   "metadata": {},
   "outputs": [],
   "source": [
    "# Pick up the last datetime of the dataset and produce a string in the exact format \"Dec 25, 2019\"\n",
    "def exercise_02():\n",
    "    column = df['date']\n",
    "    result = column.iloc[-1].strftime(\"%b %d, %Y\")\n",
    "    return result"
   ]
  },
  {
   "cell_type": "code",
   "execution_count": 6,
   "metadata": {},
   "outputs": [
    {
     "data": {
      "text/plain": [
       "'Jun 16, 2009'"
      ]
     },
     "execution_count": 6,
     "metadata": {},
     "output_type": "execute_result"
    }
   ],
   "source": [
    "# run and check\n",
    "exercise_02()"
   ]
  },
  {
   "cell_type": "code",
   "execution_count": 7,
   "metadata": {},
   "outputs": [],
   "source": [
    "# How many days with at least one tweet do we have?\n",
    "def exercise_03():\n",
    "    df2 = df.set_index('date')\n",
    "    result = (df2.resample('D').size() >= 1).sum()\n",
    "    return result"
   ]
  },
  {
   "cell_type": "code",
   "execution_count": 8,
   "metadata": {},
   "outputs": [
    {
     "data": {
      "text/plain": [
       "48"
      ]
     },
     "execution_count": 8,
     "metadata": {},
     "output_type": "execute_result"
    }
   ],
   "source": [
    "# run and check\n",
    "exercise_03()"
   ]
  },
  {
   "cell_type": "code",
   "execution_count": 9,
   "metadata": {},
   "outputs": [],
   "source": [
    "# What is the maximum number of tweets in a day?\n",
    "def exercise_04():\n",
    "    df2 = df.set_index('date')\n",
    "    result = df2.resample('D').size().max()\n",
    "    return result"
   ]
  },
  {
   "cell_type": "code",
   "execution_count": 10,
   "metadata": {},
   "outputs": [
    {
     "data": {
      "text/plain": [
       "7309"
      ]
     },
     "execution_count": 10,
     "metadata": {},
     "output_type": "execute_result"
    }
   ],
   "source": [
    "# run and check\n",
    "exercise_04()"
   ]
  },
  {
   "cell_type": "code",
   "execution_count": 11,
   "metadata": {},
   "outputs": [],
   "source": [
    "# What is the minimum number of tweets in a day with at least one tweet?\n",
    "def exercise_05():\n",
    "    df2 = df.set_index('date')\n",
    "    res = df2.resample('D').size()\n",
    "    res2 = res[res != 0]\n",
    "    result = res2.min()\n",
    "    return result"
   ]
  },
  {
   "cell_type": "code",
   "execution_count": 12,
   "metadata": {},
   "outputs": [
    {
     "data": {
      "text/plain": [
       "10"
      ]
     },
     "execution_count": 12,
     "metadata": {},
     "output_type": "execute_result"
    }
   ],
   "source": [
    "# run and check\n",
    "exercise_05()"
   ]
  },
  {
   "cell_type": "code",
   "execution_count": 13,
   "metadata": {},
   "outputs": [],
   "source": [
    "# What is the average number of tweets in a day with at least one tweet (°)?\n",
    "def exercise_06():\n",
    "    df2 = df.set_index('date')\n",
    "    res = df2.resample('D').size()\n",
    "    res2 = res[res != 0]\n",
    "    result = round(res2.mean(),1)\n",
    "    return result"
   ]
  },
  {
   "cell_type": "code",
   "execution_count": 14,
   "metadata": {},
   "outputs": [
    {
     "data": {
      "text/plain": [
       "2151.2"
      ]
     },
     "execution_count": 14,
     "metadata": {},
     "output_type": "execute_result"
    }
   ],
   "source": [
    "# run and check\n",
    "exercise_06()"
   ]
  },
  {
   "cell_type": "code",
   "execution_count": 15,
   "metadata": {},
   "outputs": [],
   "source": [
    "# At what hour do we have the minimum number of tweets?\n",
    "def exercise_07():\n",
    "    r = df['date'].apply(lambda x : x.strftime(\"%H\")).value_counts().idxmin()\n",
    "    result = print(r) \n",
    "    return result"
   ]
  },
  {
   "cell_type": "code",
   "execution_count": 16,
   "metadata": {},
   "outputs": [
    {
     "name": "stdout",
     "output_type": "stream",
     "text": [
      "13\n"
     ]
    }
   ],
   "source": [
    "# run and check\n",
    "exercise_07()"
   ]
  },
  {
   "cell_type": "code",
   "execution_count": 17,
   "metadata": {},
   "outputs": [],
   "source": [
    "# At what hour do we have the maximum number of tweets?\n",
    "def exercise_08():\n",
    "    r = df['date'].apply(lambda x : x.strftime(\"%H\")).value_counts().idxmax()\n",
    "    result = print(r) \n",
    "    return result"
   ]
  },
  {
   "cell_type": "code",
   "execution_count": 18,
   "metadata": {},
   "outputs": [
    {
     "name": "stdout",
     "output_type": "stream",
     "text": [
      "23\n"
     ]
    }
   ],
   "source": [
    "# run and check\n",
    "exercise_08()"
   ]
  },
  {
   "cell_type": "code",
   "execution_count": 19,
   "metadata": {},
   "outputs": [],
   "source": [
    "# Who is the most active user in the dataset?\n",
    "def exercise_09():\n",
    "    result = df['user'].value_counts().idxmax()\n",
    "    return result"
   ]
  },
  {
   "cell_type": "code",
   "execution_count": 20,
   "metadata": {},
   "outputs": [
    {
     "data": {
      "text/plain": [
       "'VioletsCRUK'"
      ]
     },
     "execution_count": 20,
     "metadata": {},
     "output_type": "execute_result"
    }
   ],
   "source": [
    "# run and check\n",
    "exercise_09()"
   ]
  },
  {
   "cell_type": "code",
   "execution_count": 21,
   "metadata": {},
   "outputs": [],
   "source": [
    "# What is the average number of tweets in a day produced by the most active user (°)?\n",
    "def exercise_10():\n",
    "    vi = df.loc[df['user'] == 'VioletsCRUK']\n",
    "    vi2 = vi.set_index('date')\n",
    "    vi2 = vi2.resample('D').size()\n",
    "    res = vi2[vi2 != 0]\n",
    "    result = round(res.mean(),1)\n",
    "    return result"
   ]
  },
  {
   "cell_type": "code",
   "execution_count": 22,
   "metadata": {},
   "outputs": [
    {
     "data": {
      "text/plain": [
       "2.6"
      ]
     },
     "execution_count": 22,
     "metadata": {},
     "output_type": "execute_result"
    }
   ],
   "source": [
    "# run and check\n",
    "exercise_10()"
   ]
  },
  {
   "cell_type": "code",
   "execution_count": 23,
   "metadata": {},
   "outputs": [],
   "source": [
    "# What is the mean score of all tweets (°)?\n",
    "def exercise_11():\n",
    "    result = round(df['score'].mean(), 1)\n",
    "    return result"
   ]
  },
  {
   "cell_type": "code",
   "execution_count": 24,
   "metadata": {},
   "outputs": [
    {
     "data": {
      "text/plain": [
       "2.2"
      ]
     },
     "execution_count": 24,
     "metadata": {},
     "output_type": "execute_result"
    }
   ],
   "source": [
    "# run and check\n",
    "exercise_11()"
   ]
  },
  {
   "cell_type": "code",
   "execution_count": 25,
   "metadata": {},
   "outputs": [],
   "source": [
    "# What is the mean score of tweets containing the string \"good\" (°)?\n",
    "def exercise_12():\n",
    "    tweets = df.loc[df['text'].str.contains('good'), 'score']\n",
    "    result = round(tweets.mean(),1)\n",
    "    return result"
   ]
  },
  {
   "cell_type": "code",
   "execution_count": 26,
   "metadata": {},
   "outputs": [
    {
     "data": {
      "text/plain": [
       "2.6"
      ]
     },
     "execution_count": 26,
     "metadata": {},
     "output_type": "execute_result"
    }
   ],
   "source": [
    "# run and check\n",
    "exercise_12()"
   ]
  },
  {
   "cell_type": "code",
   "execution_count": 27,
   "metadata": {},
   "outputs": [],
   "source": [
    "# What is the mean score of tweets containing the string \"bad\" (°)?\n",
    "def exercise_13():\n",
    "    tweets = df.loc[df['text'].str.contains('bad'), 'score']\n",
    "    result = round(tweets.mean(),1)\n",
    "    return result"
   ]
  },
  {
   "cell_type": "code",
   "execution_count": 28,
   "metadata": {},
   "outputs": [
    {
     "data": {
      "text/plain": [
       "0.9"
      ]
     },
     "execution_count": 28,
     "metadata": {},
     "output_type": "execute_result"
    }
   ],
   "source": [
    "# run and check\n",
    "exercise_13()"
   ]
  },
  {
   "cell_type": "code",
   "execution_count": 29,
   "metadata": {},
   "outputs": [],
   "source": [
    "# What is the mean score of tweets issued by the most active user found in question 9 (°)?\n",
    "def exercise_14():\n",
    "    vi = df.loc[df['user'] == 'VioletsCRUK']\n",
    "    result = round(vi['score'].mean(),1)\n",
    "    return result"
   ]
  },
  {
   "cell_type": "code",
   "execution_count": 30,
   "metadata": {},
   "outputs": [
    {
     "data": {
      "text/plain": [
       "3.1"
      ]
     },
     "execution_count": 30,
     "metadata": {},
     "output_type": "execute_result"
    }
   ],
   "source": [
    "# run and check\n",
    "exercise_14()"
   ]
  },
  {
   "cell_type": "code",
   "execution_count": 31,
   "metadata": {},
   "outputs": [],
   "source": [
    "# Which text is the most frequent one in all tweets?\n",
    "def exercise_15():\n",
    "    result = df['text'].value_counts().idxmax()\n",
    "    return result"
   ]
  },
  {
   "cell_type": "code",
   "execution_count": 32,
   "metadata": {},
   "outputs": [
    {
     "data": {
      "text/plain": [
       "'good morning '"
      ]
     },
     "execution_count": 32,
     "metadata": {},
     "output_type": "execute_result"
    }
   ],
   "source": [
    "# run and check\n",
    "exercise_15()"
   ]
  },
  {
   "cell_type": "code",
   "execution_count": 33,
   "metadata": {},
   "outputs": [],
   "source": [
    "# How many different users issued the most frequent tweet?\n",
    "def exercise_16():\n",
    "    result = df.loc[df['text'] == 'good morning ', 'user'].nunique()\n",
    "    return result"
   ]
  },
  {
   "cell_type": "code",
   "execution_count": 34,
   "metadata": {},
   "outputs": [
    {
     "data": {
      "text/plain": [
       "114"
      ]
     },
     "execution_count": 34,
     "metadata": {},
     "output_type": "execute_result"
    }
   ],
   "source": [
    "# run and check\n",
    "exercise_16()"
   ]
  },
  {
   "cell_type": "code",
   "execution_count": 35,
   "metadata": {},
   "outputs": [],
   "source": [
    "# What is the mean score of all tweets issued by those users (°)?\n",
    "def exercise_17():\n",
    "    filtrusers = df[df['text'] == 'good morning ']\n",
    "    a = list(filtrusers['user'])\n",
    "    FS = df.loc[df['user'].isin(a) == True]\n",
    "    result = round(FS['score'].mean(),1)\n",
    "    return result"
   ]
  },
  {
   "cell_type": "code",
   "execution_count": 36,
   "metadata": {},
   "outputs": [
    {
     "data": {
      "text/plain": [
       "3.7"
      ]
     },
     "execution_count": 36,
     "metadata": {},
     "output_type": "execute_result"
    }
   ],
   "source": [
    "# run and check\n",
    "exercise_17()"
   ]
  },
  {
   "cell_type": "code",
   "execution_count": 37,
   "metadata": {},
   "outputs": [],
   "source": [
    "# Which user is the most quoted one (the result should be a string starting with an `@`)?\n",
    "def exercise_18():\n",
    "    pattern = '^@'\n",
    "    dfa = df.loc[df['text'].str.contains(pattern)]\n",
    "    result = dfa['text'].value_counts(ascending = True).idxmax().split(' ',1)[0]\n",
    "    return result"
   ]
  },
  {
   "cell_type": "code",
   "execution_count": 38,
   "metadata": {},
   "outputs": [
    {
     "data": {
      "text/plain": [
       "'@mileycyrus'"
      ]
     },
     "execution_count": 38,
     "metadata": {},
     "output_type": "execute_result"
    }
   ],
   "source": [
    "# run and check\n",
    "exercise_18()"
   ]
  },
  {
   "cell_type": "code",
   "execution_count": 39,
   "metadata": {},
   "outputs": [],
   "source": [
    "# How many different users issued at least a tweet quoting the most quoted user?\n",
    "def exercise_19():\n",
    "    pattern = '@mileycyrus'\n",
    "    dfa = df.loc[df['text'].str.contains(pattern)]\n",
    "    result = dfa['user'].nunique()\n",
    "    return result"
   ]
  },
  {
   "cell_type": "code",
   "execution_count": 40,
   "metadata": {},
   "outputs": [
    {
     "data": {
      "text/plain": [
       "307"
      ]
     },
     "execution_count": 40,
     "metadata": {},
     "output_type": "execute_result"
    }
   ],
   "source": [
    "# run and check\n",
    "exercise_19()"
   ]
  },
  {
   "cell_type": "code",
   "execution_count": 41,
   "metadata": {},
   "outputs": [],
   "source": [
    "# What is the mean score of tweets quoting the most quoted user (°)?\n",
    "def exercise_20():\n",
    "    pattern = '@mileycyrus'\n",
    "    dfa = df.loc[df['text'].str.contains(pattern)]\n",
    "    result = round(dfa['score'].mean(),1)\n",
    "    return result"
   ]
  },
  {
   "cell_type": "code",
   "execution_count": 42,
   "metadata": {},
   "outputs": [
    {
     "data": {
      "text/plain": [
       "3.0"
      ]
     },
     "execution_count": 42,
     "metadata": {},
     "output_type": "execute_result"
    }
   ],
   "source": [
    "# run and check\n",
    "exercise_20()"
   ]
  }
 ],
 "metadata": {
  "kernelspec": {
   "display_name": "Python 3",
   "language": "python",
   "name": "python3"
  },
  "language_info": {
   "codemirror_mode": {
    "name": "ipython",
    "version": 3
   },
   "file_extension": ".py",
   "mimetype": "text/x-python",
   "name": "python",
   "nbconvert_exporter": "python",
   "pygments_lexer": "ipython3",
   "version": "3.8.3"
  }
 },
 "nbformat": 4,
 "nbformat_minor": 2
}
