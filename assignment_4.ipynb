{
 "cells": [
  {
   "cell_type": "markdown",
   "metadata": {},
   "source": [
    "# Assignment \\#4 the Olympic dataset 1/2\n",
    "\n",
    "#### Features description\n",
    "- *City*: City\n",
    "- *Edition*: Year\n",
    "- *Sport*: Sport\n",
    "- *Discipline*: Discipline\n",
    "- *Athlete*: Athlete's last name and first name (generally separated by a comma and a space)\n",
    "- *NOC*: Country, National Olympic Committee, ISO 3166-1 alpha-3\n",
    "- *Gender*: Men, Women\n",
    "- *Event*: Event\n",
    "- *Event_gender*: Event gender (F = Women, M = Men, X = NA)\n",
    "- *Medal*: Metal of medal (Bronze, Silver, Gold)"
   ]
  },
  {
   "cell_type": "code",
   "execution_count": 1,
   "metadata": {},
   "outputs": [],
   "source": [
    "# usual import and options\n",
    "import pandas as pd\n",
    "pd.set_option(\"display.max_rows\", 16)"
   ]
  },
  {
   "cell_type": "markdown",
   "metadata": {},
   "source": [
    "### Loading the dataset\n",
    "\n",
    "**file**: `'Summer Olympic medallists 1896 to 2008 - ALL MEDALISTS.txt'`\n",
    "\n",
    "**separator**: tab: `\\t`"
   ]
  },
  {
   "cell_type": "code",
   "execution_count": 2,
   "metadata": {},
   "outputs": [
    {
     "data": {
      "text/html": [
       "<div>\n",
       "<style scoped>\n",
       "    .dataframe tbody tr th:only-of-type {\n",
       "        vertical-align: middle;\n",
       "    }\n",
       "\n",
       "    .dataframe tbody tr th {\n",
       "        vertical-align: top;\n",
       "    }\n",
       "\n",
       "    .dataframe thead th {\n",
       "        text-align: right;\n",
       "    }\n",
       "</style>\n",
       "<table border=\"1\" class=\"dataframe\">\n",
       "  <thead>\n",
       "    <tr style=\"text-align: right;\">\n",
       "      <th></th>\n",
       "      <th>City</th>\n",
       "      <th>Edition</th>\n",
       "      <th>Sport</th>\n",
       "      <th>Discipline</th>\n",
       "      <th>Athlete</th>\n",
       "      <th>NOC</th>\n",
       "      <th>Gender</th>\n",
       "      <th>Event</th>\n",
       "      <th>Event_gender</th>\n",
       "      <th>Medal</th>\n",
       "    </tr>\n",
       "  </thead>\n",
       "  <tbody>\n",
       "    <tr>\n",
       "      <th>0</th>\n",
       "      <td>Athens</td>\n",
       "      <td>1896</td>\n",
       "      <td>Aquatics</td>\n",
       "      <td>Swimming</td>\n",
       "      <td>HAJOS, Alfred</td>\n",
       "      <td>HUN</td>\n",
       "      <td>Men</td>\n",
       "      <td>100m freestyle</td>\n",
       "      <td>M</td>\n",
       "      <td>Gold</td>\n",
       "    </tr>\n",
       "    <tr>\n",
       "      <th>1</th>\n",
       "      <td>Athens</td>\n",
       "      <td>1896</td>\n",
       "      <td>Aquatics</td>\n",
       "      <td>Swimming</td>\n",
       "      <td>HERSCHMANN, Otto</td>\n",
       "      <td>AUT</td>\n",
       "      <td>Men</td>\n",
       "      <td>100m freestyle</td>\n",
       "      <td>M</td>\n",
       "      <td>Silver</td>\n",
       "    </tr>\n",
       "    <tr>\n",
       "      <th>2</th>\n",
       "      <td>Athens</td>\n",
       "      <td>1896</td>\n",
       "      <td>Aquatics</td>\n",
       "      <td>Swimming</td>\n",
       "      <td>DRIVAS, Dimitrios</td>\n",
       "      <td>GRE</td>\n",
       "      <td>Men</td>\n",
       "      <td>100m freestyle for sailors</td>\n",
       "      <td>M</td>\n",
       "      <td>Bronze</td>\n",
       "    </tr>\n",
       "    <tr>\n",
       "      <th>3</th>\n",
       "      <td>Athens</td>\n",
       "      <td>1896</td>\n",
       "      <td>Aquatics</td>\n",
       "      <td>Swimming</td>\n",
       "      <td>MALOKINIS, Ioannis</td>\n",
       "      <td>GRE</td>\n",
       "      <td>Men</td>\n",
       "      <td>100m freestyle for sailors</td>\n",
       "      <td>M</td>\n",
       "      <td>Gold</td>\n",
       "    </tr>\n",
       "    <tr>\n",
       "      <th>4</th>\n",
       "      <td>Athens</td>\n",
       "      <td>1896</td>\n",
       "      <td>Aquatics</td>\n",
       "      <td>Swimming</td>\n",
       "      <td>CHASAPIS, Spiridon</td>\n",
       "      <td>GRE</td>\n",
       "      <td>Men</td>\n",
       "      <td>100m freestyle for sailors</td>\n",
       "      <td>M</td>\n",
       "      <td>Silver</td>\n",
       "    </tr>\n",
       "    <tr>\n",
       "      <th>...</th>\n",
       "      <td>...</td>\n",
       "      <td>...</td>\n",
       "      <td>...</td>\n",
       "      <td>...</td>\n",
       "      <td>...</td>\n",
       "      <td>...</td>\n",
       "      <td>...</td>\n",
       "      <td>...</td>\n",
       "      <td>...</td>\n",
       "      <td>...</td>\n",
       "    </tr>\n",
       "    <tr>\n",
       "      <th>495</th>\n",
       "      <td>Paris</td>\n",
       "      <td>1900</td>\n",
       "      <td>Rowing</td>\n",
       "      <td>Rowing</td>\n",
       "      <td>KLEIN, Roelof</td>\n",
       "      <td>ZZX</td>\n",
       "      <td>Men</td>\n",
       "      <td>pair-oared shell with coxswain (2+)</td>\n",
       "      <td>M</td>\n",
       "      <td>Gold</td>\n",
       "    </tr>\n",
       "    <tr>\n",
       "      <th>496</th>\n",
       "      <td>Paris</td>\n",
       "      <td>1900</td>\n",
       "      <td>Rowing</td>\n",
       "      <td>Rowing</td>\n",
       "      <td>MARTINET, Louis</td>\n",
       "      <td>FRA</td>\n",
       "      <td>Men</td>\n",
       "      <td>pair-oared shell with coxswain (2+)</td>\n",
       "      <td>M</td>\n",
       "      <td>Silver</td>\n",
       "    </tr>\n",
       "    <tr>\n",
       "      <th>497</th>\n",
       "      <td>Paris</td>\n",
       "      <td>1900</td>\n",
       "      <td>Rowing</td>\n",
       "      <td>Rowing</td>\n",
       "      <td>UNKNOWN COX / BARREUR INCONNU</td>\n",
       "      <td>FRA</td>\n",
       "      <td>Men</td>\n",
       "      <td>pair-oared shell with coxswain (2+)</td>\n",
       "      <td>M</td>\n",
       "      <td>Silver</td>\n",
       "    </tr>\n",
       "    <tr>\n",
       "      <th>498</th>\n",
       "      <td>Paris</td>\n",
       "      <td>1900</td>\n",
       "      <td>Rowing</td>\n",
       "      <td>Rowing</td>\n",
       "      <td>WALEFF</td>\n",
       "      <td>FRA</td>\n",
       "      <td>Men</td>\n",
       "      <td>pair-oared shell with coxswain (2+)</td>\n",
       "      <td>M</td>\n",
       "      <td>Silver</td>\n",
       "    </tr>\n",
       "    <tr>\n",
       "      <th>499</th>\n",
       "      <td>Paris</td>\n",
       "      <td>1900</td>\n",
       "      <td>Rowing</td>\n",
       "      <td>Rowing</td>\n",
       "      <td>ASHE, Saint-George</td>\n",
       "      <td>GBR</td>\n",
       "      <td>Men</td>\n",
       "      <td>single sculls (1x)</td>\n",
       "      <td>M</td>\n",
       "      <td>Bronze</td>\n",
       "    </tr>\n",
       "  </tbody>\n",
       "</table>\n",
       "<p>500 rows × 10 columns</p>\n",
       "</div>"
      ],
      "text/plain": [
       "       City  Edition     Sport Discipline                        Athlete  NOC  \\\n",
       "0    Athens     1896  Aquatics   Swimming                  HAJOS, Alfred  HUN   \n",
       "1    Athens     1896  Aquatics   Swimming               HERSCHMANN, Otto  AUT   \n",
       "2    Athens     1896  Aquatics   Swimming              DRIVAS, Dimitrios  GRE   \n",
       "3    Athens     1896  Aquatics   Swimming             MALOKINIS, Ioannis  GRE   \n",
       "4    Athens     1896  Aquatics   Swimming             CHASAPIS, Spiridon  GRE   \n",
       "..      ...      ...       ...        ...                            ...  ...   \n",
       "495   Paris     1900    Rowing     Rowing                  KLEIN, Roelof  ZZX   \n",
       "496   Paris     1900    Rowing     Rowing                MARTINET, Louis  FRA   \n",
       "497   Paris     1900    Rowing     Rowing  UNKNOWN COX / BARREUR INCONNU  FRA   \n",
       "498   Paris     1900    Rowing     Rowing                         WALEFF  FRA   \n",
       "499   Paris     1900    Rowing     Rowing             ASHE, Saint-George  GBR   \n",
       "\n",
       "    Gender                                Event Event_gender   Medal  \n",
       "0      Men                       100m freestyle            M    Gold  \n",
       "1      Men                       100m freestyle            M  Silver  \n",
       "2      Men           100m freestyle for sailors            M  Bronze  \n",
       "3      Men           100m freestyle for sailors            M    Gold  \n",
       "4      Men           100m freestyle for sailors            M  Silver  \n",
       "..     ...                                  ...          ...     ...  \n",
       "495    Men  pair-oared shell with coxswain (2+)            M    Gold  \n",
       "496    Men  pair-oared shell with coxswain (2+)            M  Silver  \n",
       "497    Men  pair-oared shell with coxswain (2+)            M  Silver  \n",
       "498    Men  pair-oared shell with coxswain (2+)            M  Silver  \n",
       "499    Men                   single sculls (1x)            M  Bronze  \n",
       "\n",
       "[500 rows x 10 columns]"
      ]
     },
     "execution_count": 2,
     "metadata": {},
     "output_type": "execute_result"
    }
   ],
   "source": [
    "# LOADING THE DATASET\n",
    "# DO NOT CHANGE THIS CELL FOR GRADING\n",
    "# THE DATASET SHOULD BE ALONG WITH THE NOTEBOOK AND THE PYTHON FILE\n",
    "\n",
    "df = pd.read_csv('Summer Olympic medallists 1896 to 2008 - ALL MEDALISTS.txt', sep='\\t')\n",
    "df.head(500)"
   ]
  },
  {
   "cell_type": "markdown",
   "metadata": {},
   "source": [
    "#### Questions\n",
    "\n",
    "1) How many different cities have organized Olympic games?\n",
    "\n",
    "2) How many different editions of Olympic games are in the dataset?\n",
    "\n",
    "3) How many cities have organized more than one edition of Olympic games?\n",
    "\n",
    "4) Which sport distributed the most medals?\n",
    "\n",
    "5) Which discipline distributed the most medals?\n",
    "\n",
    "6) How many gold medals have been distributed?\n",
    "\n",
    "7) Which edition distributed the most silver medals?\n",
    "\n",
    "8) In how many different disciplines did men received medals (°)?\n",
    "\n",
    "9) In how many different disciplines did women received medals (°)?\n",
    "\n",
    "10) How many disciplines are dedicated to women (°)?\n",
    "\n",
    "11) How many countries have won a medal with an event gender equal to 'X'?\n",
    "\n",
    "12) How many countries have won a gold medal with an event gender equal to 'X'?\n",
    "\n",
    "13) How many different countries have an athlete whose surname is 'SCHMIDT' (+)?\n",
    "\n",
    "14) How many different sports have the word 'ball' in their name?\n",
    "\n",
    "15) How many Bronze or Silver medals have been won by any athlete whose surname is 'KIM' (+)?\n",
    "\n",
    "(°) Use the 'Gender' column.\n",
    "\n",
    "(+) Most of athlene's names are in the form: 'SURNAME, Firstname'"
   ]
  },
  {
   "cell_type": "code",
   "execution_count": 3,
   "metadata": {},
   "outputs": [
    {
     "data": {
      "text/plain": [
       "22"
      ]
     },
     "execution_count": 3,
     "metadata": {},
     "output_type": "execute_result"
    }
   ],
   "source": [
    "# 1) How many different cities have organized Olympic games?\n",
    "def exercise_01():\n",
    "    c = df['City']\n",
    "    c\n",
    "    result = c.nunique()\n",
    "    return result\n",
    "\n",
    "# run and check\n",
    "exercise_01()"
   ]
  },
  {
   "cell_type": "code",
   "execution_count": 4,
   "metadata": {},
   "outputs": [
    {
     "data": {
      "text/plain": [
       "26"
      ]
     },
     "execution_count": 4,
     "metadata": {},
     "output_type": "execute_result"
    }
   ],
   "source": [
    "# 2) How many different editions of Olympic games are in the dataset?\n",
    "def exercise_02():\n",
    "    ogy = df['Edition']\n",
    "    ogy\n",
    "    result = ogy.nunique()\n",
    "    return result\n",
    "\n",
    "# run and check\n",
    "exercise_02()"
   ]
  },
  {
   "cell_type": "code",
   "execution_count": 5,
   "metadata": {},
   "outputs": [
    {
     "data": {
      "text/plain": [
       "4"
      ]
     },
     "execution_count": 5,
     "metadata": {},
     "output_type": "execute_result"
    }
   ],
   "source": [
    "# 3) How many cities have organized more than one edition of Olympic games?\n",
    "\n",
    "def exercise_03():\n",
    "    CleanCi = df['City'].drop_duplicates()\n",
    "    CleanEd = df['Edition'].drop_duplicates()   \n",
    "    result = CleanEd.nunique()-CleanCi.nunique()\n",
    "    return result\n",
    "\n",
    "# run and check\n",
    "exercise_03()"
   ]
  },
  {
   "cell_type": "code",
   "execution_count": 6,
   "metadata": {},
   "outputs": [
    {
     "data": {
      "text/plain": [
       "'Aquatics'"
      ]
     },
     "execution_count": 6,
     "metadata": {},
     "output_type": "execute_result"
    }
   ],
   "source": [
    "# 4) Which sport distributed the most medals?\n",
    "\n",
    "def exercise_04():\n",
    "    result = df['Sport'].value_counts().idxmax()\n",
    "    return result\n",
    "\n",
    "# run and check\n",
    "exercise_04()"
   ]
  },
  {
   "cell_type": "code",
   "execution_count": 7,
   "metadata": {},
   "outputs": [
    {
     "data": {
      "text/plain": [
       "'Athletics'"
      ]
     },
     "execution_count": 7,
     "metadata": {},
     "output_type": "execute_result"
    }
   ],
   "source": [
    "# 5) Which discipline distributed the most medals?\n",
    "\n",
    "def exercise_05():\n",
    "    result = df['Discipline'].value_counts().idxmax()\n",
    "    return result\n",
    "\n",
    "# run and check\n",
    "exercise_05()"
   ]
  },
  {
   "cell_type": "code",
   "execution_count": 8,
   "metadata": {},
   "outputs": [
    {
     "data": {
      "text/plain": [
       "9850"
      ]
     },
     "execution_count": 8,
     "metadata": {},
     "output_type": "execute_result"
    }
   ],
   "source": [
    "# 6) How many gold medals have been distributed?\n",
    "\n",
    "def exercise_06():\n",
    "    medals= df['Medal'].value_counts()\n",
    "    result = medals.loc['Gold']\n",
    "    return result\n",
    "\n",
    "# run and check\n",
    "exercise_06()"
   ]
  },
  {
   "cell_type": "code",
   "execution_count": 9,
   "metadata": {},
   "outputs": [
    {
     "data": {
      "text/plain": [
       "2000"
      ]
     },
     "execution_count": 9,
     "metadata": {},
     "output_type": "execute_result"
    }
   ],
   "source": [
    "# 7) Which edition distributed the most silver medals?\n",
    "\n",
    "def exercise_07():\n",
    "    result = df[df.Medal == 'Silver'].Edition.value_counts().idxmax()\n",
    "    return result\n",
    "\n",
    "# run and check\n",
    "exercise_07()"
   ]
  },
  {
   "cell_type": "code",
   "execution_count": 10,
   "metadata": {},
   "outputs": [
    {
     "data": {
      "text/plain": [
       "53"
      ]
     },
     "execution_count": 10,
     "metadata": {},
     "output_type": "execute_result"
    }
   ],
   "source": [
    "# 8) In how many different disciplines did men received medals (°)?\n",
    "\n",
    "def exercise_08():\n",
    "    result = df[df.Gender == 'Men'].Discipline.value_counts().size\n",
    "    return result\n",
    "\n",
    "# run and check\n",
    "exercise_08()"
   ]
  },
  {
   "cell_type": "code",
   "execution_count": 11,
   "metadata": {},
   "outputs": [
    {
     "data": {
      "text/plain": [
       "40"
      ]
     },
     "execution_count": 11,
     "metadata": {},
     "output_type": "execute_result"
    }
   ],
   "source": [
    "# 9) In how many different disciplines did women received medals (°)?\n",
    "\n",
    "def exercise_09():\n",
    "    result = df[df.Gender == 'Women'].Discipline.value_counts().size\n",
    "    return result\n",
    "\n",
    "# run and check\n",
    "exercise_09()"
   ]
  },
  {
   "cell_type": "code",
   "execution_count": 12,
   "metadata": {},
   "outputs": [
    {
     "data": {
      "text/plain": [
       "3"
      ]
     },
     "execution_count": 12,
     "metadata": {},
     "output_type": "execute_result"
    }
   ],
   "source": [
    "# 10) How many disciplines are dedicated to women (°)?\n",
    "\n",
    "def exercise_10():\n",
    "    result = df['Discipline'].nunique() - df.loc[df['Gender'] == 'Men', 'Discipline'].nunique()\n",
    "    return result\n",
    "\n",
    "# run and check\n",
    "exercise_10()"
   ]
  },
  {
   "cell_type": "code",
   "execution_count": 13,
   "metadata": {},
   "outputs": [
    {
     "data": {
      "text/plain": [
       "49"
      ]
     },
     "execution_count": 13,
     "metadata": {},
     "output_type": "execute_result"
    }
   ],
   "source": [
    "# 11) How many countries have won a medal with an event gender equal to 'X'?\n",
    "\n",
    "def exercise_11():\n",
    "    result = df.loc[(df.Event_gender == 'X'), 'NOC'].nunique()\n",
    "    return result\n",
    "\n",
    "# run and check\n",
    "exercise_11()"
   ]
  },
  {
   "cell_type": "code",
   "execution_count": 14,
   "metadata": {},
   "outputs": [
    {
     "data": {
      "text/plain": [
       "33"
      ]
     },
     "execution_count": 14,
     "metadata": {},
     "output_type": "execute_result"
    }
   ],
   "source": [
    "# 12) How many countries have won a gold medal with an event gender equal to 'X'?\n",
    "\n",
    "def exercise_12():\n",
    "    result = df.loc[(df['Medal'] == 'Gold') & (df['Event_gender'] == 'X'), 'NOC'].nunique()\n",
    "    return result\n",
    "\n",
    "# run and check\n",
    "exercise_12()"
   ]
  },
  {
   "cell_type": "code",
   "execution_count": 15,
   "metadata": {},
   "outputs": [
    {
     "data": {
      "text/plain": [
       "11"
      ]
     },
     "execution_count": 15,
     "metadata": {},
     "output_type": "execute_result"
    }
   ],
   "source": [
    "# 13) How many different countries have an athlete whose surname is 'SCHMIDT'?\n",
    "\n",
    "def exercise_13():\n",
    "    result = df.loc[(df.Athlete.str.match('SCHMIDT'), 'NOC')].nunique()\n",
    "    return result\n",
    "\n",
    "# run and check\n",
    "exercise_13()"
   ]
  },
  {
   "cell_type": "code",
   "execution_count": 16,
   "metadata": {},
   "outputs": [
    {
     "data": {
      "text/plain": [
       "6"
      ]
     },
     "execution_count": 16,
     "metadata": {},
     "output_type": "execute_result"
    }
   ],
   "source": [
    "# 14) How many different sports have the word 'ball' in their name?\n",
    "\n",
    "def exercise_14():\n",
    "    result = df.Sport[df['Sport'].str.contains('ball')].nunique()\n",
    "    return result\n",
    "\n",
    "# run and check\n",
    "exercise_14()"
   ]
  },
  {
   "cell_type": "code",
   "execution_count": 17,
   "metadata": {},
   "outputs": [
    {
     "data": {
      "text/plain": [
       "78"
      ]
     },
     "execution_count": 17,
     "metadata": {},
     "output_type": "execute_result"
    }
   ],
   "source": [
    "# 15) How many Bronze or Silver medals have been won by any athlete whose surname is 'KIM'?\n",
    "\n",
    "def exercise_15():\n",
    "    result =  len(df.loc[(((df['Medal'] == 'Silver') | (df['Medal'] == 'Bronze')) & (df.Athlete.str[0:4] == 'KIM,'))])\n",
    "    return result\n",
    "\n",
    "# run and check\n",
    "exercise_15()"
   ]
  }
 ],
 "metadata": {
  "kernelspec": {
   "display_name": "Python 3",
   "language": "python",
   "name": "python3"
  },
  "language_info": {
   "codemirror_mode": {
    "name": "ipython",
    "version": 3
   },
   "file_extension": ".py",
   "mimetype": "text/x-python",
   "name": "python",
   "nbconvert_exporter": "python",
   "pygments_lexer": "ipython3",
   "version": "3.8.3"
  }
 },
 "nbformat": 4,
 "nbformat_minor": 2
}
