{
 "cells": [
  {
   "cell_type": "markdown",
   "metadata": {},
   "source": [
    "# Assignment \\#5 the Olympic dataset 2/2\n",
    "\n",
    "#### Features description\n",
    "- *City*: City\n",
    "- *Edition*: Year\n",
    "- *Sport*: Sport\n",
    "- *Discipline*: Discipline\n",
    "- *Athlete*: Athlete's last name and first name (generally separated by a comma and a space)\n",
    "- *NOC*: Country, National Olympic Committee, ISO 3166-1 alpha-3\n",
    "- *Gender*: Men, Women\n",
    "- *Event*: Event\n",
    "- *Event_gender*: Event gender (F = Women, M = Men, X = NA)\n",
    "- *Medal*: Metal of medal (Bronze, Silver, Gold)"
   ]
  },
  {
   "cell_type": "code",
   "execution_count": 1,
   "metadata": {},
   "outputs": [],
   "source": [
    "# usual import and options\n",
    "import pandas as pd\n",
    "pd.set_option(\"display.max_rows\", 16)"
   ]
  },
  {
   "cell_type": "markdown",
   "metadata": {},
   "source": [
    "### Loading the dataset\n",
    "\n",
    "**file**: `'Summer Olympic medallists 1896 to 2008 - ALL MEDALISTS.txt'`\n",
    "\n",
    "**separator**: tab: `\\t`"
   ]
  },
  {
   "cell_type": "code",
   "execution_count": 2,
   "metadata": {},
   "outputs": [
    {
     "data": {
      "text/html": [
       "<div>\n",
       "<style scoped>\n",
       "    .dataframe tbody tr th:only-of-type {\n",
       "        vertical-align: middle;\n",
       "    }\n",
       "\n",
       "    .dataframe tbody tr th {\n",
       "        vertical-align: top;\n",
       "    }\n",
       "\n",
       "    .dataframe thead th {\n",
       "        text-align: right;\n",
       "    }\n",
       "</style>\n",
       "<table border=\"1\" class=\"dataframe\">\n",
       "  <thead>\n",
       "    <tr style=\"text-align: right;\">\n",
       "      <th></th>\n",
       "      <th>City</th>\n",
       "      <th>Edition</th>\n",
       "      <th>Sport</th>\n",
       "      <th>Discipline</th>\n",
       "      <th>Athlete</th>\n",
       "      <th>NOC</th>\n",
       "      <th>Gender</th>\n",
       "      <th>Event</th>\n",
       "      <th>Event_gender</th>\n",
       "      <th>Medal</th>\n",
       "    </tr>\n",
       "  </thead>\n",
       "  <tbody>\n",
       "    <tr>\n",
       "      <th>0</th>\n",
       "      <td>Athens</td>\n",
       "      <td>1896</td>\n",
       "      <td>Aquatics</td>\n",
       "      <td>Swimming</td>\n",
       "      <td>HAJOS, Alfred</td>\n",
       "      <td>HUN</td>\n",
       "      <td>Men</td>\n",
       "      <td>100m freestyle</td>\n",
       "      <td>M</td>\n",
       "      <td>Gold</td>\n",
       "    </tr>\n",
       "    <tr>\n",
       "      <th>1</th>\n",
       "      <td>Athens</td>\n",
       "      <td>1896</td>\n",
       "      <td>Aquatics</td>\n",
       "      <td>Swimming</td>\n",
       "      <td>HERSCHMANN, Otto</td>\n",
       "      <td>AUT</td>\n",
       "      <td>Men</td>\n",
       "      <td>100m freestyle</td>\n",
       "      <td>M</td>\n",
       "      <td>Silver</td>\n",
       "    </tr>\n",
       "    <tr>\n",
       "      <th>2</th>\n",
       "      <td>Athens</td>\n",
       "      <td>1896</td>\n",
       "      <td>Aquatics</td>\n",
       "      <td>Swimming</td>\n",
       "      <td>DRIVAS, Dimitrios</td>\n",
       "      <td>GRE</td>\n",
       "      <td>Men</td>\n",
       "      <td>100m freestyle for sailors</td>\n",
       "      <td>M</td>\n",
       "      <td>Bronze</td>\n",
       "    </tr>\n",
       "    <tr>\n",
       "      <th>3</th>\n",
       "      <td>Athens</td>\n",
       "      <td>1896</td>\n",
       "      <td>Aquatics</td>\n",
       "      <td>Swimming</td>\n",
       "      <td>MALOKINIS, Ioannis</td>\n",
       "      <td>GRE</td>\n",
       "      <td>Men</td>\n",
       "      <td>100m freestyle for sailors</td>\n",
       "      <td>M</td>\n",
       "      <td>Gold</td>\n",
       "    </tr>\n",
       "    <tr>\n",
       "      <th>4</th>\n",
       "      <td>Athens</td>\n",
       "      <td>1896</td>\n",
       "      <td>Aquatics</td>\n",
       "      <td>Swimming</td>\n",
       "      <td>CHASAPIS, Spiridon</td>\n",
       "      <td>GRE</td>\n",
       "      <td>Men</td>\n",
       "      <td>100m freestyle for sailors</td>\n",
       "      <td>M</td>\n",
       "      <td>Silver</td>\n",
       "    </tr>\n",
       "  </tbody>\n",
       "</table>\n",
       "</div>"
      ],
      "text/plain": [
       "     City  Edition     Sport Discipline             Athlete  NOC Gender  \\\n",
       "0  Athens     1896  Aquatics   Swimming       HAJOS, Alfred  HUN    Men   \n",
       "1  Athens     1896  Aquatics   Swimming    HERSCHMANN, Otto  AUT    Men   \n",
       "2  Athens     1896  Aquatics   Swimming   DRIVAS, Dimitrios  GRE    Men   \n",
       "3  Athens     1896  Aquatics   Swimming  MALOKINIS, Ioannis  GRE    Men   \n",
       "4  Athens     1896  Aquatics   Swimming  CHASAPIS, Spiridon  GRE    Men   \n",
       "\n",
       "                        Event Event_gender   Medal  \n",
       "0              100m freestyle            M    Gold  \n",
       "1              100m freestyle            M  Silver  \n",
       "2  100m freestyle for sailors            M  Bronze  \n",
       "3  100m freestyle for sailors            M    Gold  \n",
       "4  100m freestyle for sailors            M  Silver  "
      ]
     },
     "execution_count": 2,
     "metadata": {},
     "output_type": "execute_result"
    }
   ],
   "source": [
    "# LOADING THE DATASET\n",
    "# DO NOT CHANGE THIS CELL FOR GRADING\n",
    "# THE DATASET SHOULD BE ALONG WITH THE NOTEBOOK AND THE PYTHON FILE\n",
    "\n",
    "df = pd.read_csv('Summer Olympic medallists 1896 to 2008 - ALL MEDALISTS.txt', sep='\\t')\n",
    "df.head()"
   ]
  },
  {
   "cell_type": "markdown",
   "metadata": {},
   "source": [
    "#### Questions\n",
    "\n",
    "1) How many different events are in the dataset?\n",
    "\n",
    "2) How many different events including numbers in their description are in the dataset?\n",
    "\n",
    "3) Which athlete has participated in the most editions?\n",
    "\n",
    "4) How many sports have the same number of Gold, Silver and Bronze medals?\n",
    "\n",
    "5) How many athletes have strictly more Gold medals than Silver and more Silver medals than Bronze?\n",
    "\n",
    "6) Which country has won at least one medal in each olympic edition?\n",
    "\n",
    "7) Add a column named 'Score' with 1 for Bronze, 2 for Silver and 3 for Gold medals. What is the total sum of scores?\n",
    "\n",
    "8) Which athlete has the largest sum of scores?\n",
    "\n",
    "9) Which woman athlete has the largest sum of scores?\n",
    "\n",
    "10) For how many countries the sum of men's scores is equal to the sum of women's scores?\n",
    "\n",
    "11) Add a column named 'Trial' with the concatenation of columns 'Discipline', 'Sport' and 'Event' separated by a space. How many different trials are in the dataset?\n",
    "\n",
    "12) Which edition has the largest number of different trials?\n",
    "\n",
    "13) Add a column 'First Name' with the first name of athletes. How many different first names are in the dataset (+)?\n",
    "\n",
    "14) Which athlete's first name has the largest sum of scores (+)?\n",
    "\n",
    "15) Which woman athlete's first name has the largest sum of scores (°) (+)?\n",
    "\n",
    "(°) Use the 'Gender' column.\n",
    "(+) Most of athlene's names are in the form: 'SURNAME, Firstname'"
   ]
  },
  {
   "cell_type": "code",
   "execution_count": 3,
   "metadata": {},
   "outputs": [
    {
     "data": {
      "text/plain": [
       "577"
      ]
     },
     "execution_count": 3,
     "metadata": {},
     "output_type": "execute_result"
    }
   ],
   "source": [
    "# 1) How many different events are in the dataset?\n",
    "\n",
    "def exercise_01():\n",
    "    result = df['Event'].nunique()\n",
    "    return result\n",
    "\n",
    "\n",
    "# run and check\n",
    "exercise_01()"
   ]
  },
  {
   "cell_type": "code",
   "execution_count": 4,
   "metadata": {},
   "outputs": [
    {
     "data": {
      "text/plain": [
       "430"
      ]
     },
     "execution_count": 4,
     "metadata": {},
     "output_type": "execute_result"
    }
   ],
   "source": [
    "# 2) How many different events including numbers in their description are in the dataset?\n",
    "\n",
    "def exercise_02():\n",
    "    \n",
    "    unique = df['Event'].unique()\n",
    "    BOOL = pd.Series(unique).str.contains('\\d')\n",
    "    result = BOOL.value_counts()[1]\n",
    "    return result\n",
    "\n",
    "\n",
    "# run and check\n",
    "exercise_02()"
   ]
  },
  {
   "cell_type": "code",
   "execution_count": 5,
   "metadata": {},
   "outputs": [
    {
     "data": {
      "text/plain": [
       "'SZIVOS, Istvan'"
      ]
     },
     "execution_count": 5,
     "metadata": {},
     "output_type": "execute_result"
    }
   ],
   "source": [
    "# 3) Which athlete has participated in the most editions?\n",
    "\n",
    "def exercise_03():\n",
    "    var = df.pivot_table(index = 'Athlete', values = 'Edition', aggfunc = 'nunique')\n",
    "    result = var.fillna(0).idxmax()[1]\n",
    "    return result\n",
    "\n",
    "\n",
    "# run and check\n",
    "exercise_03()"
   ]
  },
  {
   "cell_type": "code",
   "execution_count": 6,
   "metadata": {},
   "outputs": [
    {
     "data": {
      "text/plain": [
       "7"
      ]
     },
     "execution_count": 6,
     "metadata": {},
     "output_type": "execute_result"
    }
   ],
   "source": [
    "# 4) How many sports distributed exactly the same number of Gold, Silver and Bronze medals?\n",
    "\n",
    "def exercise_04():\n",
    "    df.fillna(0)\n",
    "    var = df.pivot_table(index = 'Sport', columns = 'Medal', values = 'NOC', aggfunc = 'count')\n",
    "    result = ((var['Gold'] == var['Silver']) & (var['Silver'] == var['Bronze'])).value_counts()[1]\n",
    "    return result\n",
    "\n",
    "# run and check\n",
    "exercise_04()"
   ]
  },
  {
   "cell_type": "code",
   "execution_count": 7,
   "metadata": {},
   "outputs": [
    {
     "data": {
      "text/plain": [
       "253"
      ]
     },
     "execution_count": 7,
     "metadata": {},
     "output_type": "execute_result"
    }
   ],
   "source": [
    "# 5) How many athletes received strictly more Gold medals than Silver and strictly more Silver medals than Bronze?\n",
    "\n",
    "def exercise_05():\n",
    "    var = df.pivot_table(index = 'Athlete', columns = 'Medal', values='Sport', aggfunc='count').fillna(0)\n",
    "    result = ((var['Gold'] > var['Silver']) & (var['Silver'] > var['Bronze'])).value_counts()[1]\n",
    "    return result\n",
    "\n",
    "# run and check\n",
    "exercise_05()"
   ]
  },
  {
   "cell_type": "code",
   "execution_count": 8,
   "metadata": {},
   "outputs": [
    {
     "data": {
      "text/plain": [
       "'GBR'"
      ]
     },
     "execution_count": 8,
     "metadata": {},
     "output_type": "execute_result"
    }
   ],
   "source": [
    "# 6) Which country has won at least one medal in each olympic edition?\n",
    "\n",
    "def exercise_06():\n",
    "    var = df.pivot_table(index = 'NOC', columns = 'Edition', values = 'Medal', aggfunc = 'count')\n",
    "    var = var.dropna().index[0]\n",
    "    result = var\n",
    "    return result\n",
    "\n",
    "# run and check\n",
    "exercise_06()"
   ]
  },
  {
   "cell_type": "code",
   "execution_count": 9,
   "metadata": {},
   "outputs": [
    {
     "data": {
      "text/plain": [
       "58593"
      ]
     },
     "execution_count": 9,
     "metadata": {},
     "output_type": "execute_result"
    }
   ],
   "source": [
    "# 7) What is the total sum of scores?\n",
    "\n",
    "def exercise_07():\n",
    "    df['Score'] = df['Medal']\n",
    "    df['Score'] = df['Score'].replace(['Gold', 'Silver', 'Bronze'], [3,2,1])\n",
    "    result = df['Score'].sum()\n",
    "    return result\n",
    "\n",
    "# run and check\n",
    "exercise_07()"
   ]
  },
  {
   "cell_type": "code",
   "execution_count": 10,
   "metadata": {},
   "outputs": [
    {
     "data": {
      "text/plain": [
       "'PHELPS, Michael'"
      ]
     },
     "execution_count": 10,
     "metadata": {},
     "output_type": "execute_result"
    }
   ],
   "source": [
    "# 8) Which athlete has the largest sum of scores?\n",
    "\n",
    "def exercise_08():\n",
    "    var3 = df.pivot_table(index='Athlete',values='Score',aggfunc='sum')\n",
    "    result = var3['Score'].idxmax()\n",
    "    return result\n",
    "\n",
    "# run and check\n",
    "exercise_08()"
   ]
  },
  {
   "cell_type": "code",
   "execution_count": 11,
   "metadata": {},
   "outputs": [
    {
     "data": {
      "text/plain": [
       "'LATYNINA, Larisa'"
      ]
     },
     "execution_count": 11,
     "metadata": {},
     "output_type": "execute_result"
    }
   ],
   "source": [
    "# 9) Which woman athlete has the largest sum of scores (°)?\n",
    "\n",
    "def exercise_09():\n",
    "    var4 = df.pivot_table(index='Athlete',columns='Gender',values='Score',aggfunc='sum')\n",
    "    result = var4['Women'].fillna(0).idxmax()\n",
    "    return result\n",
    "\n",
    "# run and check\n",
    "exercise_09()"
   ]
  },
  {
   "cell_type": "code",
   "execution_count": 12,
   "metadata": {},
   "outputs": [
    {
     "data": {
      "text/plain": [
       "3"
      ]
     },
     "execution_count": 12,
     "metadata": {},
     "output_type": "execute_result"
    }
   ],
   "source": [
    "# 10) For how many countries the sum of men' scores is equal to the sum of women' scores?\n",
    "\n",
    "def exercise_10():\n",
    "    var5 = df.pivot_table(index='NOC',columns='Gender',values='Score',aggfunc='sum')\n",
    "    result = (var5['Men'] == var5['Women']).value_counts()[1]\n",
    "    return result\n",
    "\n",
    "# run and check\n",
    "exercise_10()"
   ]
  },
  {
   "cell_type": "code",
   "execution_count": 13,
   "metadata": {},
   "outputs": [
    {
     "data": {
      "text/plain": [
       "648"
      ]
     },
     "execution_count": 13,
     "metadata": {},
     "output_type": "execute_result"
    }
   ],
   "source": [
    "# 11) How many different trials are in the dataset?\n",
    "\n",
    "def exercise_11():\n",
    "    df['Trial'] = df[['Discipline', 'Sport', 'Event']].agg(' '.join, axis=1)\n",
    "    result = df['Trial'].nunique()\n",
    "    return result\n",
    "\n",
    "# run and check\n",
    "exercise_11()"
   ]
  },
  {
   "cell_type": "code",
   "execution_count": 14,
   "metadata": {},
   "outputs": [
    {
     "data": {
      "text/plain": [
       "2004"
      ]
     },
     "execution_count": 14,
     "metadata": {},
     "output_type": "execute_result"
    }
   ],
   "source": [
    "# 12) Which edition has the most different trials?\n",
    "\n",
    "def exercise_12():\n",
    "    trial = df.pivot_table(index = 'Edition', values = 'Trial', aggfunc = 'nunique')\n",
    "    result = trial.idxmax()[1]\n",
    "    return result\n",
    "\n",
    "# run and check\n",
    "exercise_12()"
   ]
  },
  {
   "cell_type": "code",
   "execution_count": 15,
   "metadata": {},
   "outputs": [
    {
     "data": {
      "text/plain": [
       "9773"
      ]
     },
     "execution_count": 15,
     "metadata": {},
     "output_type": "execute_result"
    }
   ],
   "source": [
    "# 13) How many different first names are in the dataset?\n",
    "\n",
    "def exercise_13():\n",
    "    df['FirstName'] = df['Athlete'].str.split(', ').str[1].fillna('Empty')\n",
    "    result = df['FirstName'].nunique()\n",
    "    return result\n",
    "\n",
    "# run and check\n",
    "exercise_13()"
   ]
  },
  {
   "cell_type": "code",
   "execution_count": 16,
   "metadata": {},
   "outputs": [
    {
     "data": {
      "text/plain": [
       "'Vladimir'"
      ]
     },
     "execution_count": 16,
     "metadata": {},
     "output_type": "execute_result"
    }
   ],
   "source": [
    "# 14) Which athlete's first name has the largest sum of scores?\n",
    "\n",
    "def exercise_14():\n",
    "    ALSS = df.pivot_table(index = 'FirstName', values = 'Score', aggfunc = 'sum')\n",
    "    result = ALSS['Score'].idxmax()\n",
    "    return result\n",
    "\n",
    "# run and check\n",
    "exercise_14()"
   ]
  },
  {
   "cell_type": "code",
   "execution_count": 17,
   "metadata": {},
   "outputs": [
    {
     "data": {
      "text/plain": [
       "'Elena'"
      ]
     },
     "execution_count": 17,
     "metadata": {},
     "output_type": "execute_result"
    }
   ],
   "source": [
    "# 15) Which woman athlete's first name has the largest sum of scores (°)?\n",
    "\n",
    "def exercise_15():\n",
    "    last = df.pivot_table(index='FirstName', columns = 'Gender', values='Score', aggfunc='sum').fillna(0)\n",
    "    result = last['Women'].idxmax()\n",
    "    return result\n",
    "\n",
    "# run and check\n",
    "exercise_15()"
   ]
  }
 ],
 "metadata": {
  "kernelspec": {
   "display_name": "Python 3",
   "language": "python",
   "name": "python3"
  },
  "language_info": {
   "codemirror_mode": {
    "name": "ipython",
    "version": 3
   },
   "file_extension": ".py",
   "mimetype": "text/x-python",
   "name": "python",
   "nbconvert_exporter": "python",
   "pygments_lexer": "ipython3",
   "version": "3.8.3"
  }
 },
 "nbformat": 4,
 "nbformat_minor": 2
}
