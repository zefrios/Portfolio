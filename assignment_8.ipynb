{
 "cells": [
  {
   "cell_type": "markdown",
   "metadata": {},
   "source": [
    "# Assignment \\#8 the Gapminder dataset 2/2\n",
    "\n",
    "**Please read carefully all this introduction prior to get into the assignment.**\n",
    "\n",
    "There are 4 files for this assignment:\n",
    "- `population_total.csv`: total population, per country and per year (1800 to 2018)\n",
    "- `life_expectancy_years.csv`: life expectancy, per country and per year (1800 to 2018)\n",
    "- `income_per_person.csv`: income per person, per country and per year (1800 to 2018)\n",
    "- `countries_total.csv`: countries and regions (Asia, Europe, Africa, Oceania, Americas)\n",
    "\n",
    "As usual the files must be along with your notebook and not in a dedicated folder."
   ]
  },
  {
   "cell_type": "markdown",
   "metadata": {},
   "source": [
    "**Important note about the `geo` columns accross the `DataFrame` objects**: \n",
    "- The 3 first files contain a field named `geo` with the names of the different countries. The last file contains also a column with the different countries. It is renamed to `geo` on load to ease the merges that would have to be performed (option `on='geo'` of `merge()` function or `join()` method).\n",
    "- The name of the countries have to be processed as is, without trying to homogenize them accross the different files.\n",
    "- In order to avoid discrepancies between results, all joins should be performed by using the `how='inner'`option."
   ]
  },
  {
   "cell_type": "markdown",
   "metadata": {},
   "source": [
    "**Hint about the `python_data_science_1` and `python_data_science_2` notebooks**\n",
    "\n",
    "- The 7 following questions in parts A and B rely on materials that will be studied in the notebook `python_data_science_1`: 1, 4 and 7 to 11\n",
    "- The 8 following questions in parts A and B rely on materials that will be studied in the notebook `python_data_science_2`: 2 to 3, 5 to 6 and 13 to 15"
   ]
  },
  {
   "cell_type": "markdown",
   "metadata": {},
   "source": [
    "**Caution**: Questions asking to return a floating point number (ratio, mean, percentage) should round it to 1 decimal place:\n",
    "- Such questions are marked with `(°)`\n",
    "- For instance, if the variable `result` is a floting point number, e.g. `3.14159265359`\n",
    "- The functions should return `round(result, 1)` instead of `result`, e.g. `3.1`\n",
    "- Percentages should be returned as floating point numbers (not with the % mark)."
   ]
  },
  {
   "cell_type": "markdown",
   "metadata": {},
   "source": [
    "**Last warning:** Do not use the `ìnplace = True` option when doing any manipulations of a `DataFrame`:\n",
    "1. This option is no longer recommended.\n",
    "2. This option might have side effects which may alter your results from one function to another.\n",
    "\n",
    "Therefore, instead of <code>df.any_method(inplace=True)</code>, use <code>df = df.any_method()</code>"
   ]
  },
  {
   "cell_type": "markdown",
   "metadata": {},
   "source": [
    "#### Questions\n",
    "\n",
    "**A. In this part, we will only deal with the data for year 2018 (cont.)**\n",
    "\n",
    "- Perform an inner join between the life expectancy and the total population `DataFrame` objects, then an inner join with the result and the country `DataFrame` object. Remember that overlapping columns names are renamed automatically with the `_x` and `_y` suffixes in the left and right side:\n",
    "\n",
    "1) What is the weighted average life expectancy in 2018 (°) (+)?\n",
    "\n",
    "2) What is the largest weighted average life expectancy by region in 2018 (°) (+)?\n",
    "\n",
    "3) What is the smallest weighted average life expectancy by region in 2018 (°) (+)?\n",
    "\n",
    "- Perform an inner join between the income per person and the total population `DataFrame` objects, then an inner join with the result and the country `DataFrame` objects. Remember that overlapping columns are renamed automatically with the `_x` and `_y` suffixes in the left and right side:\n",
    "\n",
    "4) What is the weighted average income per person in 2018 (°) (++)?\n",
    "\n",
    "5) Which region has the largest weighted average income per person in 2018 (++)?\n",
    "\n",
    "6) Which region has the smallest weighted average income per person in 2018 (++)?\n",
    "\n",
    "(+) The *weighted average life expectancy* is computed with the sum of the products of life expectancy by total population of each country divided by the sum of total population of each country. It can be computed for all countries in the world or for all countries in each region.\n",
    "\n",
    "Hint: weighted average life expectancy $= \\frac{\\displaystyle\\sum_{i} life_{i} \\times pop_{i}}{\\displaystyle\\sum_{i} pop_{i}}$\n",
    "\n",
    "(++) The *weighted average income per person* is computed with the sum of the products of income per person by total population of each country divided by the sum of total population of each country. It can be computed for all countries in the world or for all countries in each region.\n",
    "\n",
    "Hint: weighted average income per person $= \\frac{\\displaystyle\\sum_{i} income_{i} \\times pop_{i}}{\\displaystyle\\sum_{i} pop_{i}}$\n",
    "\n",
    "(°) Result of functions should be rounded to 1 decimal place."
   ]
  },
  {
   "cell_type": "markdown",
   "metadata": {},
   "source": [
    "**B. In this part, we deal with data for all years**\n",
    "\n",
    "7) Which country has the smallest mean life expectancy accross years?\n",
    "\n",
    "8) Which country has the smallest mean income per person accross years?\n",
    "\n",
    "9) Compute the correlation of total population between all countries accross years. Which country has the highest mean correlation with the other ones? \n",
    "\n",
    "10) Compute the correlation of life expectancy between all countries accross years. Which country has the highest mean correlation of life expectancy with the other ones? \n",
    "\n",
    "11) Compute the correlation of income per person between all countries accross years. Which country has the highest mean correlation of income per person with the other ones?\n",
    "\n",
    "12) Perform a wide to long format transformation of the total population `DataFrame` object by using the `melt()` function. What is the length of the new `DataFrame` object for total population?\n",
    "\n",
    "13) Perform a wide to long format transformation of the life expectancy `DataFrame` object by using the `melt()` function. What is the length of the new `DataFrame` object for life expectancy?\n",
    "\n",
    "14) Perform a wide to long format transformation of the income per person `DataFrame` object by using the `melt()` function. What is the length of the new `DataFrame` object for income per person?\n",
    "\n",
    "15) Perform 3 wide to long format transformations of the total population, life expectancy and income per person `DataFrame` objects by using the `melt()` function. Then perform an inner join of the 2 first `DataFrame` objects on both `geo` and `Year` by using the `merge()` function. Then perform another inner join of this `DataFrame` object and the third one. You should obtain a final `DataFrame` object with 5 columns: `geo`, `Year`, `Total Population`, `Life Expectancy` and `Income Per Person`. Remove lines with `NA` . What is the length of the final `DataFrame` object obtained?"
   ]
  },
  {
   "cell_type": "markdown",
   "metadata": {},
   "source": [
    "**Homework, out of the scope of the assignment**\n",
    "\n",
    "- Homogenize the country names accross the different files and compare the results of the 30 exercises.\n",
    "\n",
    "- Implement a graphics showing, for a given year, all countries positionned with their income per person on the `x` axis and their life expectancy on the `y` axis, and represented by their name, as well as, a circle which radius is linked to their total population and which color is linked to their region."
   ]
  },
  {
   "cell_type": "code",
   "execution_count": 1,
   "metadata": {},
   "outputs": [],
   "source": [
    "# import\n",
    "import numpy as np\n",
    "import pandas as pd"
   ]
  },
  {
   "cell_type": "code",
   "execution_count": 2,
   "metadata": {},
   "outputs": [],
   "source": [
    "# loading the data\n",
    "\n",
    "df_population = pd.read_csv('population_total.csv')\n",
    "df_life = pd.read_csv('life_expectancy_years.csv')\n",
    "df_income = pd.read_csv('income_per_person.csv')\n",
    "df_country = pd.read_csv('countries_total.csv',\n",
    "                           engine='python',\n",
    "                           usecols=[0, 5],\n",
    "                           header=0,\n",
    "                           names=['geo', 'region'])"
   ]
  },
  {
   "cell_type": "code",
   "execution_count": 3,
   "metadata": {},
   "outputs": [],
   "source": [
    "# What is the weighted average life expectancy in 2018 (°)?\n",
    "def exercise_01():\n",
    "    first = df_life.merge(df_population, on='geo', how='inner')\n",
    "    merged_df = first.merge(df_country, on='geo', how='inner')\n",
    "    weighted_2018 = round(((merged_df['2018_x']*merged_df['2018_y']).sum())/(merged_df['2018_y'].sum()),1)\n",
    "    result = weighted_2018\n",
    "    return result"
   ]
  },
  {
   "cell_type": "code",
   "execution_count": 4,
   "metadata": {},
   "outputs": [
    {
     "data": {
      "text/plain": [
       "73.1"
      ]
     },
     "execution_count": 4,
     "metadata": {},
     "output_type": "execute_result"
    }
   ],
   "source": [
    "# run and check\n",
    "exercise_01()"
   ]
  },
  {
   "cell_type": "code",
   "execution_count": 5,
   "metadata": {},
   "outputs": [],
   "source": [
    "# What is the largest weighted average life expectancy by region in 2018 (°)?\n",
    "def exercise_02():\n",
    "    first = df_life.merge(df_population, on='geo', how='inner')\n",
    "    merged_df = first.merge(df_country, on='geo', how='inner')\n",
    "    var1 = pd.pivot_table(merged_df, index='region', values='2018_y', \n",
    "    aggfunc = (lambda x: round(((merged_df['2018_x']*x).sum())/(x.sum()),1)))\n",
    "    result = var1.max()[0]\n",
    "    return result"
   ]
  },
  {
   "cell_type": "code",
   "execution_count": 6,
   "metadata": {},
   "outputs": [
    {
     "data": {
      "text/plain": [
       "78.4"
      ]
     },
     "execution_count": 6,
     "metadata": {},
     "output_type": "execute_result"
    }
   ],
   "source": [
    "# run and check\n",
    "exercise_02()"
   ]
  },
  {
   "cell_type": "code",
   "execution_count": 7,
   "metadata": {},
   "outputs": [],
   "source": [
    "# What is the smallest weighted average life expectancy by region in 2018 (°)?\n",
    "def exercise_03():\n",
    "    first = df_life.merge(df_population, on='geo', how='inner')\n",
    "    merged_df = first.merge(df_country, on='geo', how='inner')\n",
    "    var2 = pd.pivot_table(merged_df, index='region', values='2018_y', \n",
    "    aggfunc = (lambda x: round(((merged_df['2018_x']*x).sum())/(x.sum()),1)))\n",
    "    result = var2.min()[0]\n",
    "    return result"
   ]
  },
  {
   "cell_type": "code",
   "execution_count": 8,
   "metadata": {},
   "outputs": [
    {
     "data": {
      "text/plain": [
       "65.9"
      ]
     },
     "execution_count": 8,
     "metadata": {},
     "output_type": "execute_result"
    }
   ],
   "source": [
    "# run and check\n",
    "exercise_03()"
   ]
  },
  {
   "cell_type": "code",
   "execution_count": 9,
   "metadata": {},
   "outputs": [],
   "source": [
    "# What is the weighted average income per person in 2018 (°)?\n",
    "def exercise_04():\n",
    "    first2 = df_income.merge(df_population,  on='geo', how='inner')\n",
    "    second2 = first2.merge(df_country, on='geo', how='inner')\n",
    "    weighted2_2018 = round(((second2['2018_x']*second2['2018_y']).sum())/(second2['2018_y'].sum()),1)\n",
    "    result = weighted2_2018\n",
    "    return result"
   ]
  },
  {
   "cell_type": "code",
   "execution_count": 10,
   "metadata": {},
   "outputs": [
    {
     "data": {
      "text/plain": [
       "15678.3"
      ]
     },
     "execution_count": 10,
     "metadata": {},
     "output_type": "execute_result"
    }
   ],
   "source": [
    "# run and check\n",
    "exercise_04()"
   ]
  },
  {
   "cell_type": "code",
   "execution_count": 11,
   "metadata": {},
   "outputs": [],
   "source": [
    "# Which region has the largest weighted average income per person in 2018?\n",
    "def exercise_05():\n",
    "    first2 = df_income.merge(df_population,  on='geo', how='inner')\n",
    "    second2 = first2.merge(df_country, on='geo', how='inner')\n",
    "    var3 = pd.pivot_table(second2, index='region', values='2018_y', \n",
    "    aggfunc = (lambda x: round(((second2['2018_x']*x).sum())/(x.sum()),1)))\n",
    "    result = var3.idxmax()[0]\n",
    "    return result"
   ]
  },
  {
   "cell_type": "code",
   "execution_count": 12,
   "metadata": {},
   "outputs": [
    {
     "data": {
      "text/plain": [
       "'Oceania'"
      ]
     },
     "execution_count": 12,
     "metadata": {},
     "output_type": "execute_result"
    }
   ],
   "source": [
    "# run and check\n",
    "exercise_05()"
   ]
  },
  {
   "cell_type": "code",
   "execution_count": 13,
   "metadata": {},
   "outputs": [],
   "source": [
    "# Which region has the smallest weighted average income per person in 2018?\n",
    "def exercise_06():\n",
    "    first2 = df_income.merge(df_population,  on='geo', how='inner')\n",
    "    second2 = first2.merge(df_country, on='geo', how='inner')\n",
    "    var3 = pd.pivot_table(second2, index='region', values='2018_y', \n",
    "    aggfunc = (lambda x: round(((second2['2018_x']*x).sum())/(x.sum()),1)))\n",
    "    result = var3.idxmin()[0]\n",
    "    return result"
   ]
  },
  {
   "cell_type": "code",
   "execution_count": 14,
   "metadata": {},
   "outputs": [
    {
     "data": {
      "text/plain": [
       "'Africa'"
      ]
     },
     "execution_count": 14,
     "metadata": {},
     "output_type": "execute_result"
    }
   ],
   "source": [
    "# run and check\n",
    "exercise_06()"
   ]
  },
  {
   "cell_type": "code",
   "execution_count": 15,
   "metadata": {},
   "outputs": [],
   "source": [
    "# Which country has the smallest average life expectancy accross years?\n",
    "def exercise_07():\n",
    "    var5 = pd.pivot_table(df_life, index = 'geo')\n",
    "    result = var5.mean(axis=1).idxmin()\n",
    "    return result"
   ]
  },
  {
   "cell_type": "code",
   "execution_count": 16,
   "metadata": {},
   "outputs": [
    {
     "data": {
      "text/plain": [
       "'Yemen'"
      ]
     },
     "execution_count": 16,
     "metadata": {},
     "output_type": "execute_result"
    }
   ],
   "source": [
    "# run and check\n",
    "exercise_07()"
   ]
  },
  {
   "cell_type": "code",
   "execution_count": 17,
   "metadata": {},
   "outputs": [],
   "source": [
    "# Which country has the smallest average income per person accross years?\n",
    "def exercise_08():\n",
    "    var6 = pd.pivot_table(df_income, index = 'geo')\n",
    "    result = var6.mean(axis=1).idxmin()\n",
    "    return result"
   ]
  },
  {
   "cell_type": "code",
   "execution_count": 18,
   "metadata": {},
   "outputs": [
    {
     "data": {
      "text/plain": [
       "'Mozambique'"
      ]
     },
     "execution_count": 18,
     "metadata": {},
     "output_type": "execute_result"
    }
   ],
   "source": [
    "# run and check\n",
    "exercise_08()"
   ]
  },
  {
   "cell_type": "code",
   "execution_count": 19,
   "metadata": {},
   "outputs": [],
   "source": [
    "# Which country has the highest mean correlation of total population with other countries? \n",
    "def exercise_09():\n",
    "    result = df_population.set_index('geo').T.corr().mean().idxmax()\n",
    "    return result"
   ]
  },
  {
   "cell_type": "code",
   "execution_count": 20,
   "metadata": {},
   "outputs": [
    {
     "data": {
      "text/plain": [
       "'Haiti'"
      ]
     },
     "execution_count": 20,
     "metadata": {},
     "output_type": "execute_result"
    }
   ],
   "source": [
    "# run and check\n",
    "exercise_09()"
   ]
  },
  {
   "cell_type": "code",
   "execution_count": 21,
   "metadata": {},
   "outputs": [],
   "source": [
    "# Which country has the highest mean correlation of life expectancy with other countries? \n",
    "def exercise_10():\n",
    "    result = df_life.set_index('geo').T.corr().mean().idxmax()\n",
    "    return result"
   ]
  },
  {
   "cell_type": "code",
   "execution_count": 22,
   "metadata": {},
   "outputs": [
    {
     "data": {
      "text/plain": [
       "'Thailand'"
      ]
     },
     "execution_count": 22,
     "metadata": {},
     "output_type": "execute_result"
    }
   ],
   "source": [
    "# run and check\n",
    "exercise_10()"
   ]
  },
  {
   "cell_type": "code",
   "execution_count": 23,
   "metadata": {},
   "outputs": [],
   "source": [
    "# Which country has the highest mean correlation of income per person with other countries? \n",
    "def exercise_11():\n",
    "    result = df_income.set_index('geo').T.corr().mean().idxmax()\n",
    "    return result"
   ]
  },
  {
   "cell_type": "code",
   "execution_count": 24,
   "metadata": {},
   "outputs": [
    {
     "data": {
      "text/plain": [
       "'Czech Republic'"
      ]
     },
     "execution_count": 24,
     "metadata": {},
     "output_type": "execute_result"
    }
   ],
   "source": [
    "# run and check\n",
    "exercise_11()"
   ]
  },
  {
   "cell_type": "code",
   "execution_count": 25,
   "metadata": {},
   "outputs": [],
   "source": [
    "# What is the length of the new DataFrame object for total population?\n",
    "def exercise_12():\n",
    "    df_pop1 = pd.melt(df_population, id_vars='geo')\n",
    "    result = len(df_pop1)\n",
    "    return result"
   ]
  },
  {
   "cell_type": "code",
   "execution_count": 26,
   "metadata": {},
   "outputs": [
    {
     "data": {
      "text/plain": [
       "42705"
      ]
     },
     "execution_count": 26,
     "metadata": {},
     "output_type": "execute_result"
    }
   ],
   "source": [
    "# run and check\n",
    "exercise_12()"
   ]
  },
  {
   "cell_type": "code",
   "execution_count": 27,
   "metadata": {},
   "outputs": [],
   "source": [
    "# What is the length of the new DataFrame object for life expectancy?\n",
    "def exercise_13():\n",
    "    df_life1 = pd.melt(df_life, id_vars='geo')\n",
    "    result = len(df_life1)\n",
    "    return result"
   ]
  },
  {
   "cell_type": "code",
   "execution_count": 28,
   "metadata": {},
   "outputs": [
    {
     "data": {
      "text/plain": [
       "40953"
      ]
     },
     "execution_count": 28,
     "metadata": {},
     "output_type": "execute_result"
    }
   ],
   "source": [
    "# run and check\n",
    "exercise_13()"
   ]
  },
  {
   "cell_type": "code",
   "execution_count": 29,
   "metadata": {},
   "outputs": [],
   "source": [
    "# What is the length of the new DataFrame object for income per person?\n",
    "def exercise_14():\n",
    "    df_inc1 = pd.melt(df_income, id_vars='geo')\n",
    "    result = len(df_inc1)\n",
    "    return result"
   ]
  },
  {
   "cell_type": "code",
   "execution_count": 30,
   "metadata": {},
   "outputs": [
    {
     "data": {
      "text/plain": [
       "42267"
      ]
     },
     "execution_count": 30,
     "metadata": {},
     "output_type": "execute_result"
    }
   ],
   "source": [
    "# run and check\n",
    "exercise_14()"
   ]
  },
  {
   "cell_type": "code",
   "execution_count": 31,
   "metadata": {},
   "outputs": [],
   "source": [
    "# What is the length of the DataFrame object merging total population, life expectancy and income per person in a long format?\n",
    "def exercise_15():\n",
    "    df_pop1 = pd.melt(df_population, id_vars='geo')\n",
    "    df_life1 = pd.melt(df_life, id_vars='geo')\n",
    "    df_inc1 = pd.melt(df_income, id_vars='geo')\n",
    "    pop_life = df_pop1.merge(df_life1, on = ['geo', 'variable'], how = 'inner')\n",
    "    PLI = pop_life.merge(df_inc1, on = ['geo', 'variable'], how = 'inner')\n",
    "    PLI = PLI.rename(columns={'variable':'Year', 'value_x':'Total Population', \n",
    "                    'value_y':'Life Expectancy', 'value':'Income Per Person'}).dropna()\n",
    "    result = len(PLI)\n",
    "    return result"
   ]
  },
  {
   "cell_type": "code",
   "execution_count": 32,
   "metadata": {},
   "outputs": [
    {
     "data": {
      "text/plain": [
       "40437"
      ]
     },
     "execution_count": 32,
     "metadata": {},
     "output_type": "execute_result"
    }
   ],
   "source": [
    "# run and check\n",
    "exercise_15()"
   ]
  }
 ],
 "metadata": {
  "kernelspec": {
   "display_name": "Python 3",
   "language": "python",
   "name": "python3"
  },
  "language_info": {
   "codemirror_mode": {
    "name": "ipython",
    "version": 3
   },
   "file_extension": ".py",
   "mimetype": "text/x-python",
   "name": "python",
   "nbconvert_exporter": "python",
   "pygments_lexer": "ipython3",
   "version": "3.8.3"
  }
 },
 "nbformat": 4,
 "nbformat_minor": 2
}
