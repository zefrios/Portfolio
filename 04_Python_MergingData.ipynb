{
 "cells": [
  {
   "cell_type": "markdown",
   "metadata": {},
   "source": [
    "# Assignment \\#7 the Gapminder dataset 1/2\n",
    "\n",
    "**Please read carefully all this introduction prior to get into the assignment.**\n",
    "\n",
    "There are 4 files for this assignment:\n",
    "- `population_total.csv`: total population, per country and per year (1800 to 2018)\n",
    "- `life_expectancy_years.csv`: life expectancy, per country and per year (1800 to 2018)\n",
    "- `income_per_person.csv`: income per person, per country and per year (1800 to 2018)\n",
    "- `countries_total.csv`: countries and regions (Asia, Europe, Africa, Oceania, Americas)\n",
    "\n",
    "As usual the files must be along with your notebook and not in a dedicated folder."
   ]
  },
  {
   "cell_type": "markdown",
   "metadata": {},
   "source": [
    "**Important note about the `geo` columns accross the `DataFrame` objects**: \n",
    "- The 3 first files contain a field named `geo` with the names of the different countries. The last file contains also a column with the different countries. It is renamed to `geo` on load to ease the merges that would have to be performed (option `on='geo'` of `merge()` function or `join()` method).\n",
    "- The name of the countries have to be processed as is, without trying to homogenize them accross the different files.\n",
    "- In order to avoid discrepancies between results, all joins should be performed by using the `how='inner'`option."
   ]
  },
  {
   "cell_type": "markdown",
   "metadata": {},
   "source": [
    "**Hint about the `python_data_science_1` and `python_data_science_2` notebooks**\n",
    "\n",
    "- The 13 following questions rely on materials that will be studied in the notebook `python_data_science_1`: 1 to 13\n",
    "- The 2 following questions rely on materials that will be studied in the notebook `python_data_science_2`: 14 to 15"
   ]
  },
  {
   "cell_type": "markdown",
   "metadata": {},
   "source": [
    "**Caution**: Questions asking to return a floating point number (ratio, mean, percentage) should round it to 1 decimal place:\n",
    "- Such questions are marked with `(°)`\n",
    "- For instance, if the variable `result` is a floting point number, e.g. `3.14159265359`\n",
    "- The functions should return `round(result, 1)` instead of `result`, e.g. `3.1`\n",
    "- Percentages should be returned as floating point numbers (not with the % mark)."
   ]
  },
  {
   "cell_type": "markdown",
   "metadata": {},
   "source": [
    "**Last warning:** Do not use the `ìnplace = True` option when doing any manipulations of a `DataFrame`:\n",
    "1. This option is no longer recommended.\n",
    "2. This option might have side effects which may alter your results from one function to another.\n",
    "\n",
    "Therefore, instead of <code>df.any_method(inplace=True)</code>, use <code>df = df.any_method()</code>"
   ]
  },
  {
   "cell_type": "markdown",
   "metadata": {},
   "source": [
    "#### Questions\n",
    "\n",
    "**A. In this part, we will only deal with the data for year 2018**\n",
    "\n",
    "- Total population by country in 2018:\n",
    "\n",
    "1) What is the sum of the total population in 2018?\n",
    "\n",
    "2) Which country has the largest total population in 2018?\n",
    "\n",
    "3) Which country has the smallest total population in 2018?\n",
    "\n",
    "- Life expectation by country in 2018:\n",
    "\n",
    "4) What is the average life expectancy in 2018 (°)?\n",
    "\n",
    "5) What is the difference between the largest and the smallest life expectancy in 2018?\n",
    "\n",
    "6) Which country has the largest life expectancy in 2018?\n",
    "\n",
    "7) Which country has the smallest life expectancy in 2018?\n",
    "\n",
    "8) In 2018, below which life expectancy threshold a country is in the first decile (°)?\n",
    "\n",
    "- Income per person by country in 2018:\n",
    "\n",
    "9) What is the average income per person in 2018 (°)?\n",
    "\n",
    "10) What is the ratio between the largest and the smallest income per person in 2018 (°)?\n",
    "\n",
    "11) Which country has the largest income per person in 2018?\n",
    "\n",
    "12) Which country has the smallest income per person in 2018?\n",
    "\n",
    "13) In 2018, above which income per person threshold a country is in the last decile (°)?\n",
    "\n",
    "- Perform an inner join between the population and the country `DataFrame` objects:\n",
    "\n",
    "14) Which region has the largest total population in 2018?\n",
    "\n",
    "15) Which region has the smallest total population in 2018?\n",
    "\n",
    "(°) Result of functions should be rounded to 1 decimal place."
   ]
  },
  {
   "cell_type": "markdown",
   "metadata": {},
   "source": [
    "**Homework, out of the scope of the assignment**\n",
    "\n",
    "- Homogenize the country names accross the different files and compare the results of the 30 exercises.\n",
    "\n",
    "- Implement a graphics showing, for a given year, all countries positionned with their income per person on the `x` axis and their life expectancy on the `y` axis, and represented by their name, as well as, a circle which radius is linked to their total population and which color is linked to their region."
   ]
  },
  {
   "cell_type": "code",
   "execution_count": 1,
   "metadata": {},
   "outputs": [],
   "source": [
    "# import\n",
    "import numpy as np\n",
    "import pandas as pd"
   ]
  },
  {
   "cell_type": "code",
   "execution_count": 2,
   "metadata": {},
   "outputs": [],
   "source": [
    "# loading the data\n",
    "\n",
    "df_population = pd.read_csv('population_total.csv')\n",
    "df_life = pd.read_csv('life_expectancy_years.csv')\n",
    "df_income = pd.read_csv('income_per_person.csv')\n",
    "df_country = pd.read_csv('countries_total.csv',\n",
    "                           engine='python',\n",
    "                           usecols=[0, 5],\n",
    "                           header=0,\n",
    "                           names=['geo', 'region'])"
   ]
  },
  {
   "cell_type": "code",
   "execution_count": 3,
   "metadata": {},
   "outputs": [],
   "source": [
    "# What is the sum of the total population in 2018?\n",
    "def exercise_01():\n",
    "    result = df_population['2018'].sum()\n",
    "    return result"
   ]
  },
  {
   "cell_type": "code",
   "execution_count": 4,
   "metadata": {},
   "outputs": [
    {
     "data": {
      "text/plain": [
       "7595616701"
      ]
     },
     "execution_count": 4,
     "metadata": {},
     "output_type": "execute_result"
    }
   ],
   "source": [
    "# run and check\n",
    "exercise_01()"
   ]
  },
  {
   "cell_type": "code",
   "execution_count": 5,
   "metadata": {},
   "outputs": [],
   "source": [
    "# Which country has the largest total population in 2018?\n",
    "def exercise_02():\n",
    "    result = df_population.loc[df_population['2018'].idxmax()][0]\n",
    "    return result"
   ]
  },
  {
   "cell_type": "code",
   "execution_count": 6,
   "metadata": {},
   "outputs": [
    {
     "data": {
      "text/plain": [
       "'China'"
      ]
     },
     "execution_count": 6,
     "metadata": {},
     "output_type": "execute_result"
    }
   ],
   "source": [
    "# run and check\n",
    "exercise_02()"
   ]
  },
  {
   "cell_type": "code",
   "execution_count": 7,
   "metadata": {},
   "outputs": [],
   "source": [
    "# Which country has the smallest total population in 2018?\n",
    "def exercise_03():\n",
    "    result = df_population.loc[df_population['2018'].idxmin()][0]\n",
    "    return result"
   ]
  },
  {
   "cell_type": "code",
   "execution_count": 8,
   "metadata": {},
   "outputs": [
    {
     "data": {
      "text/plain": [
       "'Holy See'"
      ]
     },
     "execution_count": 8,
     "metadata": {},
     "output_type": "execute_result"
    }
   ],
   "source": [
    "# run and check\n",
    "exercise_03()"
   ]
  },
  {
   "cell_type": "code",
   "execution_count": 9,
   "metadata": {},
   "outputs": [],
   "source": [
    "# What is the average life expectancy in 2018 (°)?\n",
    "def exercise_04():\n",
    "    result = round(df_life['2018'].mean(), 1)\n",
    "    return result"
   ]
  },
  {
   "cell_type": "code",
   "execution_count": 10,
   "metadata": {},
   "outputs": [
    {
     "data": {
      "text/plain": [
       "72.7"
      ]
     },
     "execution_count": 10,
     "metadata": {},
     "output_type": "execute_result"
    }
   ],
   "source": [
    "# run and check\n",
    "exercise_04()"
   ]
  },
  {
   "cell_type": "code",
   "execution_count": 11,
   "metadata": {},
   "outputs": [],
   "source": [
    "# What is the difference between the largest and the smallest life expectancy in 2018?\n",
    "def exercise_05():\n",
    "    result = df_life['2018'].max() - df_life['2018'].min()\n",
    "    return result"
   ]
  },
  {
   "cell_type": "code",
   "execution_count": 12,
   "metadata": {},
   "outputs": [
    {
     "data": {
      "text/plain": [
       "33.1"
      ]
     },
     "execution_count": 12,
     "metadata": {},
     "output_type": "execute_result"
    }
   ],
   "source": [
    "# run and check\n",
    "exercise_05()"
   ]
  },
  {
   "cell_type": "code",
   "execution_count": 13,
   "metadata": {},
   "outputs": [],
   "source": [
    "# Which country has the largest life expectancy in 2018?\n",
    "def exercise_06():\n",
    "    result = df_life.loc[df_life['2018'].idxmax()][0]\n",
    "    return result"
   ]
  },
  {
   "cell_type": "code",
   "execution_count": 14,
   "metadata": {},
   "outputs": [
    {
     "data": {
      "text/plain": [
       "'Japan'"
      ]
     },
     "execution_count": 14,
     "metadata": {},
     "output_type": "execute_result"
    }
   ],
   "source": [
    "# run and check\n",
    "exercise_06()"
   ]
  },
  {
   "cell_type": "code",
   "execution_count": 15,
   "metadata": {},
   "outputs": [],
   "source": [
    "# Which country has the smallest life expectancy in 2018?\n",
    "def exercise_07():\n",
    "    result = df_life.loc[df_life['2018'].idxmin()][0]\n",
    "    return result"
   ]
  },
  {
   "cell_type": "code",
   "execution_count": 16,
   "metadata": {},
   "outputs": [
    {
     "data": {
      "text/plain": [
       "'Lesotho'"
      ]
     },
     "execution_count": 16,
     "metadata": {},
     "output_type": "execute_result"
    }
   ],
   "source": [
    "# run and check\n",
    "exercise_07()"
   ]
  },
  {
   "cell_type": "code",
   "execution_count": 17,
   "metadata": {},
   "outputs": [],
   "source": [
    "# In 2018, below which life expectancy threshold a country is in the first decile (°)?\n",
    "def exercise_08():\n",
    "    _, var = pd.qcut(df_life['2018'], 10, retbins = True)\n",
    "    result = round(var[1]+0.001, 1)\n",
    "    return result"
   ]
  },
  {
   "cell_type": "code",
   "execution_count": 18,
   "metadata": {},
   "outputs": [
    {
     "data": {
      "text/plain": [
       "62.0"
      ]
     },
     "execution_count": 18,
     "metadata": {},
     "output_type": "execute_result"
    }
   ],
   "source": [
    "# run and check\n",
    "exercise_08()"
   ]
  },
  {
   "cell_type": "code",
   "execution_count": 19,
   "metadata": {},
   "outputs": [],
   "source": [
    "# What is the average income per person in 2018 (°)?\n",
    "def exercise_09():\n",
    "    result = round(df_income['2018'].mean(), 1)\n",
    "    return result"
   ]
  },
  {
   "cell_type": "code",
   "execution_count": 20,
   "metadata": {},
   "outputs": [
    {
     "data": {
      "text/plain": [
       "18241.5"
      ]
     },
     "execution_count": 20,
     "metadata": {},
     "output_type": "execute_result"
    }
   ],
   "source": [
    "# run and check\n",
    "exercise_09()"
   ]
  },
  {
   "cell_type": "code",
   "execution_count": 21,
   "metadata": {},
   "outputs": [],
   "source": [
    "# What is the ratio between the largest and the smallest income per person in 2018\n",
    "def exercise_10():\n",
    "    result = round(df_income['2018'].max()/df_income['2018'].min(),1)\n",
    "    return result"
   ]
  },
  {
   "cell_type": "code",
   "execution_count": 22,
   "metadata": {},
   "outputs": [
    {
     "data": {
      "text/plain": [
       "192.4"
      ]
     },
     "execution_count": 22,
     "metadata": {},
     "output_type": "execute_result"
    }
   ],
   "source": [
    "# run and check\n",
    "exercise_10()"
   ]
  },
  {
   "cell_type": "code",
   "execution_count": 23,
   "metadata": {},
   "outputs": [],
   "source": [
    "# Which country has the largest income per person in 2018?\n",
    "def exercise_11():\n",
    "    result = df_income.loc[df_income['2018'].idxmax()][0]\n",
    "    return result"
   ]
  },
  {
   "cell_type": "code",
   "execution_count": 24,
   "metadata": {},
   "outputs": [
    {
     "data": {
      "text/plain": [
       "'Qatar'"
      ]
     },
     "execution_count": 24,
     "metadata": {},
     "output_type": "execute_result"
    }
   ],
   "source": [
    "# run and check\n",
    "exercise_11()"
   ]
  },
  {
   "cell_type": "code",
   "execution_count": 25,
   "metadata": {},
   "outputs": [],
   "source": [
    "# Which country has the smallest income per person in 2018?\n",
    "def exercise_12():\n",
    "    result = df_income.loc[df_income['2018'].idxmin()][0]\n",
    "    return result"
   ]
  },
  {
   "cell_type": "code",
   "execution_count": 26,
   "metadata": {},
   "outputs": [
    {
     "data": {
      "text/plain": [
       "'Somalia'"
      ]
     },
     "execution_count": 26,
     "metadata": {},
     "output_type": "execute_result"
    }
   ],
   "source": [
    "# run and check\n",
    "exercise_12()"
   ]
  },
  {
   "cell_type": "code",
   "execution_count": 27,
   "metadata": {},
   "outputs": [],
   "source": [
    "# In 2018, above which income per person threshold a country is in the last decile (°)?\n",
    "def exercise_13():\n",
    "    _, var = pd.qcut(df_income['2018'], 10, retbins = True)\n",
    "    result = round(var[9]+0.001, 1)\n",
    "    return result"
   ]
  },
  {
   "cell_type": "code",
   "execution_count": 28,
   "metadata": {},
   "outputs": [
    {
     "data": {
      "text/plain": [
       "44540.0"
      ]
     },
     "execution_count": 28,
     "metadata": {},
     "output_type": "execute_result"
    }
   ],
   "source": [
    "# run and check\n",
    "exercise_13()"
   ]
  },
  {
   "cell_type": "code",
   "execution_count": 29,
   "metadata": {},
   "outputs": [],
   "source": [
    "# Which region has the largest total population in 2018?\n",
    "def exercise_14():\n",
    "    df_regpo = pd.merge(df_country, df_population, on='geo', how='inner')\n",
    "    var = pd.pivot_table(df_regpo, index = 'region', values = '2018', aggfunc = 'sum')\n",
    "    result = var.idxmax()[0]\n",
    "    return result"
   ]
  },
  {
   "cell_type": "code",
   "execution_count": 30,
   "metadata": {},
   "outputs": [
    {
     "data": {
      "text/plain": [
       "'Asia'"
      ]
     },
     "execution_count": 30,
     "metadata": {},
     "output_type": "execute_result"
    }
   ],
   "source": [
    "# run and check\n",
    "exercise_14()"
   ]
  },
  {
   "cell_type": "code",
   "execution_count": 31,
   "metadata": {},
   "outputs": [],
   "source": [
    "# Which region has the smallest total population in 2018?\n",
    "def exercise_15():\n",
    "    df_regpo = pd.merge(df_country, df_population, on='geo', how='inner')\n",
    "    var = pd.pivot_table(df_regpo, index = 'region', values = '2018', aggfunc = 'sum')\n",
    "    result = var.idxmin()[0]\n",
    "    return result"
   ]
  },
  {
   "cell_type": "code",
   "execution_count": 32,
   "metadata": {},
   "outputs": [
    {
     "data": {
      "text/plain": [
       "'Oceania'"
      ]
     },
     "execution_count": 32,
     "metadata": {},
     "output_type": "execute_result"
    }
   ],
   "source": [
    "# run and check\n",
    "exercise_15()"
   ]
  }
 ],
 "metadata": {
  "kernelspec": {
   "display_name": "Python 3",
   "language": "python",
   "name": "python3"
  },
  "language_info": {
   "codemirror_mode": {
    "name": "ipython",
    "version": 3
   },
   "file_extension": ".py",
   "mimetype": "text/x-python",
   "name": "python",
   "nbconvert_exporter": "python",
   "pygments_lexer": "ipython3",
   "version": "3.8.3"
  }
 },
 "nbformat": 4,
 "nbformat_minor": 2
}
